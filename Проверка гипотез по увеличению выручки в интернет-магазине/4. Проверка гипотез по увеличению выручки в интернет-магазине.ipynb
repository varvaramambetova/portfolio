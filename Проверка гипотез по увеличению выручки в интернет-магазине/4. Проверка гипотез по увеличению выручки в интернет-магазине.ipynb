{
 "cells": [
  {
   "cell_type": "markdown",
   "metadata": {},
   "source": [
    "# Проверка гипотез по увеличению выручки в интернет-магазине —оценить результаты A/B теста"
   ]
  },
  {
   "cell_type": "markdown",
   "metadata": {
    "toc": true
   },
   "source": [
    "<h1>Содержание<span class=\"tocSkip\"></span></h1>\n",
    "<div class=\"toc\"><ul class=\"toc-item\"><li><span><a href=\"#Цели,-задачи,-план-проекта:\" data-toc-modified-id=\"Цели,-задачи,-план-проекта:-1\"><span class=\"toc-item-num\">1&nbsp;&nbsp;</span>Цели, задачи, план проекта:</a></span></li><li><span><a href=\"#Загрузка-и-подготовка-данных\" data-toc-modified-id=\"Загрузка-и-подготовка-данных-2\"><span class=\"toc-item-num\">2&nbsp;&nbsp;</span>Загрузка и подготовка данных</a></span></li><li><span><a href=\"#Приоритизация-гипотез---по-увеличению-выручки-интернет-магазина-с-помощью--фреймворков-ICE-и-RICE-сортировка-по-убыванию-приоритета\" data-toc-modified-id=\"Приоритизация-гипотез---по-увеличению-выручки-интернет-магазина-с-помощью--фреймворков-ICE-и-RICE-сортировка-по-убыванию-приоритета-3\"><span class=\"toc-item-num\">3&nbsp;&nbsp;</span>Приоритизация гипотез   по увеличению выручки интернет-магазина с помощью  фреймворков ICE и RICE сортировка по убыванию приоритета</a></span><ul class=\"toc-item\"><li><span><a href=\"#Изменение-приоритизации-гипотез-при-применении-RICE-вместо-ICE.-Причина-изменений\" data-toc-modified-id=\"Изменение-приоритизации-гипотез-при-применении-RICE-вместо-ICE.-Причина-изменений-3.1\"><span class=\"toc-item-num\">3.1&nbsp;&nbsp;</span>Изменение приоритизации гипотез при применении RICE вместо ICE. Причина изменений</a></span></li></ul></li><li><span><a href=\"#Анализ-A/B-теста\" data-toc-modified-id=\"Анализ-A/B-теста-4\"><span class=\"toc-item-num\">4&nbsp;&nbsp;</span>Анализ A/B-теста</a></span><ul class=\"toc-item\"><li><span><a href=\"#График-кумулятивной-выручки-по-группам.-Выводы-и-предположения\" data-toc-modified-id=\"График-кумулятивной-выручки-по-группам.-Выводы-и-предположения-4.1\"><span class=\"toc-item-num\">4.1&nbsp;&nbsp;</span>График кумулятивной выручки по группам. Выводы и предположения</a></span></li><li><span><a href=\"#График-кумулятивного-среднего-чека-по-группам.-Выводы-и-предположения\" data-toc-modified-id=\"График-кумулятивного-среднего-чека-по-группам.-Выводы-и-предположения-4.2\"><span class=\"toc-item-num\">4.2&nbsp;&nbsp;</span>График кумулятивного среднего чека по группам. Выводы и предположения</a></span></li><li><span><a href=\"#График-относительного-изменения-кумулятивного-среднего-чека-группы-B-к-группе-A.-Выводы-и-предположения\" data-toc-modified-id=\"График-относительного-изменения-кумулятивного-среднего-чека-группы-B-к-группе-A.-Выводы-и-предположения-4.3\"><span class=\"toc-item-num\">4.3&nbsp;&nbsp;</span>График относительного изменения кумулятивного среднего чека группы B к группе A. Выводы и предположения</a></span></li><li><span><a href=\"#График-кумулятивного-среднего-количества-заказов-на-посетителя-по-группам.-Выводы-и-предположения\" data-toc-modified-id=\"График-кумулятивного-среднего-количества-заказов-на-посетителя-по-группам.-Выводы-и-предположения-4.4\"><span class=\"toc-item-num\">4.4&nbsp;&nbsp;</span>График кумулятивного среднего количества заказов на посетителя по группам. Выводы и предположения</a></span></li><li><span><a href=\"#График-относительного-изменения-кумулятивного-среднего-количества-заказов-на-посетителя-группы-B-к-группе-A.-Выводы-и-предположения\" data-toc-modified-id=\"График-относительного-изменения-кумулятивного-среднего-количества-заказов-на-посетителя-группы-B-к-группе-A.-Выводы-и-предположения-4.5\"><span class=\"toc-item-num\">4.5&nbsp;&nbsp;</span>График относительного изменения кумулятивного среднего количества заказов на посетителя группы B к группе A. Выводы и предположения</a></span></li><li><span><a href=\"#Точечный-график-количества-заказов-по-пользователям.--Выводы-и-предположения\" data-toc-modified-id=\"Точечный-график-количества-заказов-по-пользователям.--Выводы-и-предположения-4.6\"><span class=\"toc-item-num\">4.6&nbsp;&nbsp;</span>Точечный график количества заказов по пользователям.  Выводы и предположения</a></span></li><li><span><a href=\"#95-й-и-99-й-перцентили-количества-заказов-на-пользователя.--Выводы-и-предположения\" data-toc-modified-id=\"95-й-и-99-й-перцентили-количества-заказов-на-пользователя.--Выводы-и-предположения-4.7\"><span class=\"toc-item-num\">4.7&nbsp;&nbsp;</span>95-й и 99-й перцентили количества заказов на пользователя.  Выводы и предположения</a></span></li><li><span><a href=\"#Точечный-график-стоимостей-заказов.--Выводы-и-предположения\" data-toc-modified-id=\"Точечный-график-стоимостей-заказов.--Выводы-и-предположения-4.8\"><span class=\"toc-item-num\">4.8&nbsp;&nbsp;</span>Точечный график стоимостей заказов.  Выводы и предположения</a></span></li><li><span><a href=\"#95-й-и-99-й-перцентили-стоимости-заказов.--Выводы-и-предположения\" data-toc-modified-id=\"95-й-и-99-й-перцентили-стоимости-заказов.--Выводы-и-предположения-4.9\"><span class=\"toc-item-num\">4.9&nbsp;&nbsp;</span>95-й и 99-й перцентили стоимости заказов.  Выводы и предположения</a></span></li><li><span><a href=\"#Cтатистическая-значимость-различий-в-среднем-количестве-заказов-на-посетителя-между-группами-по-«сырым»-данным.--Выводы-и-предположения\" data-toc-modified-id=\"Cтатистическая-значимость-различий-в-среднем-количестве-заказов-на-посетителя-между-группами-по-«сырым»-данным.--Выводы-и-предположения-4.10\"><span class=\"toc-item-num\">4.10&nbsp;&nbsp;</span>Cтатистическая значимость различий в среднем количестве заказов на посетителя между группами по «сырым» данным.  Выводы и предположения</a></span></li><li><span><a href=\"#Cтатистическая-значимость-различий-в-среднем-чеке-заказа-между-группами-по-«сырым»-данным.--Выводы-и-предположения\" data-toc-modified-id=\"Cтатистическая-значимость-различий-в-среднем-чеке-заказа-между-группами-по-«сырым»-данным.--Выводы-и-предположения-4.11\"><span class=\"toc-item-num\">4.11&nbsp;&nbsp;</span>Cтатистическая значимость различий в среднем чеке заказа между группами по «сырым» данным.  Выводы и предположения</a></span></li><li><span><a href=\"#Cтатистическая-значимость-различий-в-среднем-количестве-заказов-на-посетителя-между-группами-по-«очищенным»-данным.--Выводы-и-предположения\" data-toc-modified-id=\"Cтатистическая-значимость-различий-в-среднем-количестве-заказов-на-посетителя-между-группами-по-«очищенным»-данным.--Выводы-и-предположения-4.12\"><span class=\"toc-item-num\">4.12&nbsp;&nbsp;</span>Cтатистическая значимость различий в среднем количестве заказов на посетителя между группами по «очищенным» данным.  Выводы и предположения</a></span></li><li><span><a href=\"#Cтатистическая-значимость-различий-в-среднем-чеке-заказа-между-группами-по-«очищенным»-данным.-Выводы-и-предположения\" data-toc-modified-id=\"Cтатистическая-значимость-различий-в-среднем-чеке-заказа-между-группами-по-«очищенным»-данным.-Выводы-и-предположения-4.13\"><span class=\"toc-item-num\">4.13&nbsp;&nbsp;</span>Cтатистическая значимость различий в среднем чеке заказа между группами по «очищенным» данным. Выводы и предположения</a></span></li></ul></li><li><span><a href=\"#Решение-по-результатам-теста\" data-toc-modified-id=\"Решение-по-результатам-теста-5\"><span class=\"toc-item-num\">5&nbsp;&nbsp;</span>Решение по результатам теста</a></span></li></ul></div>"
   ]
  },
  {
   "cell_type": "markdown",
   "metadata": {},
   "source": [
    "- Навыки:jupiter notebook, Python, pandas, matplotlib,datetime,numpy, scipy. предобработка данных, исследовательский анализ А/В тестирование, статистическая проверка гипотез.\n",
    "\n",
    "- Ключевые слова: продуктовый аналитик, product analyst, аналитик продукта, product data analyst, A/B-тест, статистический тест, фреймворк, RICE, ICE\n",
    "\n",
    "- Сферы: интернет-магазины"
   ]
  },
  {
   "cell_type": "markdown",
   "metadata": {},
   "source": [
    "###  Цели, задачи, план проекта:"
   ]
  },
  {
   "cell_type": "markdown",
   "metadata": {},
   "source": [
    " Цель проекта:  \n",
    "  - Приоритизировать представленные гипотезы, запустить A/B-тест и проанализировать результаты\n",
    "    \n",
    "  Задачи проекта:    \n",
    "  - провести приоритизацию гипотез по увеличению выручки интернет-магазина с помощью  фреймворков ICE и RICE отсортировать их по убыванию приоритета\n",
    "  - указать, как изменилась приоритизация гипотез при применении RICE вместо ICE. Объяснитьпричину изменений\n",
    "  - Построить график кумулятивной выручки по группам. Сделать выводы и предположения\n",
    "  - Построить график кумулятивного среднего чека по группам. Сделать выводы и предположения\n",
    "  - Построить график относительного изменения кумулятивного среднего чека группы B к группе A. Сделать выводы и предположения\n",
    "  - Построить график кумулятивного среднего количества заказов на посетителя по группам. Сделать выводы и предположения\n",
    "  - Построить график относительного изменения кумулятивного среднего количества заказов на посетителя группы B к группе A. Сделать выводы и предположения\n",
    "  - Построить точечный график количества заказов по пользователям. Сделать выводы и предположения\n",
    "  - Посчитать 95-й и 99-й перцентили количества заказов на пользователя. Выберите границу для определения аномальных пользователей\n",
    "  - Построить точечный график стоимостей заказов. Сделать выводы и предположения\n",
    "  - Посчитать 95-й и 99-й перцентили стоимости заказов. Выбрать границу для определения аномальных заказов\n",
    "  - Посчитать статистическую значимость различий в среднем количестве заказов на посетителя между группами по «сырым» данным Сделать выводы и предположения\n",
    "  - Посчитать статистическую значимость различий в среднем чеке заказа между группами по «сырым» данным. Сделать выводы и предположения\n",
    "  - Посчитайть статистическую значимость различий в среднем количестве заказов на посетителя между группами по «очищенным» данным. Сделать выводы и предположения\n",
    "  - Посчитать статистическую значимость различий в среднем чеке заказа между группами по «очищенным» данным. Сделать выводы и предположения\n",
    "  - Принять решение по результатам теста и объяснить его\n",
    "  План работы:\n",
    "  - загрузить данные, подготовить к анализу\n",
    "  - провести приоритизацию гипотез\n",
    "  - провести Анализ A/B-теста \n",
    "  - написать общий вывод"
   ]
  },
  {
   "cell_type": "markdown",
   "metadata": {},
   "source": [
    "### Загрузка и подготовка данных"
   ]
  },
  {
   "cell_type": "code",
   "execution_count": 1,
   "metadata": {},
   "outputs": [],
   "source": [
    "import pandas as pd\n",
    "import numpy as np\n",
    "import scipy.stats as stats\n",
    "import datetime as dt\n",
    "from matplotlib import pyplot as plt\n"
   ]
  },
  {
   "cell_type": "code",
   "execution_count": 2,
   "metadata": {},
   "outputs": [],
   "source": [
    "data = pd.read_csv(r'C:\\Users\\компик\\datasets\\hypothesis.csv', sep=',') \n",
    "orders = pd.read_csv(r'C:\\Users\\компик\\datasets\\orders.csv')\n",
    "visitors = pd.read_csv(r'C:\\Users\\компик\\datasets\\visitors.csv')\n"
   ]
  },
  {
   "cell_type": "code",
   "execution_count": 3,
   "metadata": {},
   "outputs": [
    {
     "data": {
      "text/html": [
       "<div>\n",
       "<style scoped>\n",
       "    .dataframe tbody tr th:only-of-type {\n",
       "        vertical-align: middle;\n",
       "    }\n",
       "\n",
       "    .dataframe tbody tr th {\n",
       "        vertical-align: top;\n",
       "    }\n",
       "\n",
       "    .dataframe thead th {\n",
       "        text-align: right;\n",
       "    }\n",
       "</style>\n",
       "<table border=\"1\" class=\"dataframe\">\n",
       "  <thead>\n",
       "    <tr style=\"text-align: right;\">\n",
       "      <th></th>\n",
       "      <th>Hypothesis</th>\n",
       "      <th>Reach</th>\n",
       "      <th>Impact</th>\n",
       "      <th>Confidence</th>\n",
       "      <th>Efforts</th>\n",
       "    </tr>\n",
       "  </thead>\n",
       "  <tbody>\n",
       "    <tr>\n",
       "      <th>0</th>\n",
       "      <td>Добавить два новых канала привлечения трафика,...</td>\n",
       "      <td>3</td>\n",
       "      <td>10</td>\n",
       "      <td>8</td>\n",
       "      <td>6</td>\n",
       "    </tr>\n",
       "    <tr>\n",
       "      <th>1</th>\n",
       "      <td>Запустить собственную службу доставки, что сок...</td>\n",
       "      <td>2</td>\n",
       "      <td>5</td>\n",
       "      <td>4</td>\n",
       "      <td>10</td>\n",
       "    </tr>\n",
       "    <tr>\n",
       "      <th>2</th>\n",
       "      <td>Добавить блоки рекомендаций товаров на сайт ин...</td>\n",
       "      <td>8</td>\n",
       "      <td>3</td>\n",
       "      <td>7</td>\n",
       "      <td>3</td>\n",
       "    </tr>\n",
       "    <tr>\n",
       "      <th>3</th>\n",
       "      <td>Изменить структура категорий, что увеличит кон...</td>\n",
       "      <td>8</td>\n",
       "      <td>3</td>\n",
       "      <td>3</td>\n",
       "      <td>8</td>\n",
       "    </tr>\n",
       "    <tr>\n",
       "      <th>4</th>\n",
       "      <td>Изменить цвет фона главной страницы, чтобы уве...</td>\n",
       "      <td>3</td>\n",
       "      <td>1</td>\n",
       "      <td>1</td>\n",
       "      <td>1</td>\n",
       "    </tr>\n",
       "  </tbody>\n",
       "</table>\n",
       "</div>"
      ],
      "text/plain": [
       "                                          Hypothesis  Reach  Impact  \\\n",
       "0  Добавить два новых канала привлечения трафика,...      3      10   \n",
       "1  Запустить собственную службу доставки, что сок...      2       5   \n",
       "2  Добавить блоки рекомендаций товаров на сайт ин...      8       3   \n",
       "3  Изменить структура категорий, что увеличит кон...      8       3   \n",
       "4  Изменить цвет фона главной страницы, чтобы уве...      3       1   \n",
       "\n",
       "   Confidence  Efforts  \n",
       "0           8        6  \n",
       "1           4       10  \n",
       "2           7        3  \n",
       "3           3        8  \n",
       "4           1        1  "
      ]
     },
     "execution_count": 3,
     "metadata": {},
     "output_type": "execute_result"
    }
   ],
   "source": [
    "data.head()"
   ]
  },
  {
   "cell_type": "code",
   "execution_count": 4,
   "metadata": {},
   "outputs": [
    {
     "data": {
      "text/html": [
       "<div>\n",
       "<style scoped>\n",
       "    .dataframe tbody tr th:only-of-type {\n",
       "        vertical-align: middle;\n",
       "    }\n",
       "\n",
       "    .dataframe tbody tr th {\n",
       "        vertical-align: top;\n",
       "    }\n",
       "\n",
       "    .dataframe thead th {\n",
       "        text-align: right;\n",
       "    }\n",
       "</style>\n",
       "<table border=\"1\" class=\"dataframe\">\n",
       "  <thead>\n",
       "    <tr style=\"text-align: right;\">\n",
       "      <th></th>\n",
       "      <th>transactionId</th>\n",
       "      <th>visitorId</th>\n",
       "      <th>date</th>\n",
       "      <th>revenue</th>\n",
       "      <th>group</th>\n",
       "    </tr>\n",
       "  </thead>\n",
       "  <tbody>\n",
       "    <tr>\n",
       "      <th>0</th>\n",
       "      <td>3667963787</td>\n",
       "      <td>3312258926</td>\n",
       "      <td>2019-08-15</td>\n",
       "      <td>1650</td>\n",
       "      <td>B</td>\n",
       "    </tr>\n",
       "    <tr>\n",
       "      <th>1</th>\n",
       "      <td>2804400009</td>\n",
       "      <td>3642806036</td>\n",
       "      <td>2019-08-15</td>\n",
       "      <td>730</td>\n",
       "      <td>B</td>\n",
       "    </tr>\n",
       "    <tr>\n",
       "      <th>2</th>\n",
       "      <td>2961555356</td>\n",
       "      <td>4069496402</td>\n",
       "      <td>2019-08-15</td>\n",
       "      <td>400</td>\n",
       "      <td>A</td>\n",
       "    </tr>\n",
       "    <tr>\n",
       "      <th>3</th>\n",
       "      <td>3797467345</td>\n",
       "      <td>1196621759</td>\n",
       "      <td>2019-08-15</td>\n",
       "      <td>9759</td>\n",
       "      <td>B</td>\n",
       "    </tr>\n",
       "    <tr>\n",
       "      <th>4</th>\n",
       "      <td>2282983706</td>\n",
       "      <td>2322279887</td>\n",
       "      <td>2019-08-15</td>\n",
       "      <td>2308</td>\n",
       "      <td>B</td>\n",
       "    </tr>\n",
       "  </tbody>\n",
       "</table>\n",
       "</div>"
      ],
      "text/plain": [
       "   transactionId   visitorId        date  revenue group\n",
       "0     3667963787  3312258926  2019-08-15     1650     B\n",
       "1     2804400009  3642806036  2019-08-15      730     B\n",
       "2     2961555356  4069496402  2019-08-15      400     A\n",
       "3     3797467345  1196621759  2019-08-15     9759     B\n",
       "4     2282983706  2322279887  2019-08-15     2308     B"
      ]
     },
     "execution_count": 4,
     "metadata": {},
     "output_type": "execute_result"
    }
   ],
   "source": [
    "orders.head()"
   ]
  },
  {
   "cell_type": "code",
   "execution_count": 5,
   "metadata": {},
   "outputs": [
    {
     "data": {
      "text/html": [
       "<div>\n",
       "<style scoped>\n",
       "    .dataframe tbody tr th:only-of-type {\n",
       "        vertical-align: middle;\n",
       "    }\n",
       "\n",
       "    .dataframe tbody tr th {\n",
       "        vertical-align: top;\n",
       "    }\n",
       "\n",
       "    .dataframe thead th {\n",
       "        text-align: right;\n",
       "    }\n",
       "</style>\n",
       "<table border=\"1\" class=\"dataframe\">\n",
       "  <thead>\n",
       "    <tr style=\"text-align: right;\">\n",
       "      <th></th>\n",
       "      <th>date</th>\n",
       "      <th>group</th>\n",
       "      <th>visitors</th>\n",
       "    </tr>\n",
       "  </thead>\n",
       "  <tbody>\n",
       "    <tr>\n",
       "      <th>0</th>\n",
       "      <td>2019-08-01</td>\n",
       "      <td>A</td>\n",
       "      <td>719</td>\n",
       "    </tr>\n",
       "    <tr>\n",
       "      <th>1</th>\n",
       "      <td>2019-08-02</td>\n",
       "      <td>A</td>\n",
       "      <td>619</td>\n",
       "    </tr>\n",
       "    <tr>\n",
       "      <th>2</th>\n",
       "      <td>2019-08-03</td>\n",
       "      <td>A</td>\n",
       "      <td>507</td>\n",
       "    </tr>\n",
       "    <tr>\n",
       "      <th>3</th>\n",
       "      <td>2019-08-04</td>\n",
       "      <td>A</td>\n",
       "      <td>717</td>\n",
       "    </tr>\n",
       "    <tr>\n",
       "      <th>4</th>\n",
       "      <td>2019-08-05</td>\n",
       "      <td>A</td>\n",
       "      <td>756</td>\n",
       "    </tr>\n",
       "  </tbody>\n",
       "</table>\n",
       "</div>"
      ],
      "text/plain": [
       "         date group  visitors\n",
       "0  2019-08-01     A       719\n",
       "1  2019-08-02     A       619\n",
       "2  2019-08-03     A       507\n",
       "3  2019-08-04     A       717\n",
       "4  2019-08-05     A       756"
      ]
     },
     "execution_count": 5,
     "metadata": {},
     "output_type": "execute_result"
    }
   ],
   "source": [
    "visitors.head()"
   ]
  },
  {
   "cell_type": "code",
   "execution_count": 6,
   "metadata": {},
   "outputs": [
    {
     "name": "stdout",
     "output_type": "stream",
     "text": [
      "<class 'pandas.core.frame.DataFrame'>\n",
      "RangeIndex: 9 entries, 0 to 8\n",
      "Data columns (total 5 columns):\n",
      " #   Column      Non-Null Count  Dtype \n",
      "---  ------      --------------  ----- \n",
      " 0   Hypothesis  9 non-null      object\n",
      " 1   Reach       9 non-null      int64 \n",
      " 2   Impact      9 non-null      int64 \n",
      " 3   Confidence  9 non-null      int64 \n",
      " 4   Efforts     9 non-null      int64 \n",
      "dtypes: int64(4), object(1)\n",
      "memory usage: 488.0+ bytes\n"
     ]
    }
   ],
   "source": [
    "data.info()"
   ]
  },
  {
   "cell_type": "code",
   "execution_count": 7,
   "metadata": {},
   "outputs": [
    {
     "name": "stdout",
     "output_type": "stream",
     "text": [
      "<class 'pandas.core.frame.DataFrame'>\n",
      "RangeIndex: 1197 entries, 0 to 1196\n",
      "Data columns (total 5 columns):\n",
      " #   Column         Non-Null Count  Dtype \n",
      "---  ------         --------------  ----- \n",
      " 0   transactionId  1197 non-null   int64 \n",
      " 1   visitorId      1197 non-null   int64 \n",
      " 2   date           1197 non-null   object\n",
      " 3   revenue        1197 non-null   int64 \n",
      " 4   group          1197 non-null   object\n",
      "dtypes: int64(3), object(2)\n",
      "memory usage: 46.9+ KB\n"
     ]
    }
   ],
   "source": [
    "orders.info()"
   ]
  },
  {
   "cell_type": "code",
   "execution_count": 8,
   "metadata": {},
   "outputs": [
    {
     "name": "stdout",
     "output_type": "stream",
     "text": [
      "<class 'pandas.core.frame.DataFrame'>\n",
      "RangeIndex: 62 entries, 0 to 61\n",
      "Data columns (total 3 columns):\n",
      " #   Column    Non-Null Count  Dtype \n",
      "---  ------    --------------  ----- \n",
      " 0   date      62 non-null     object\n",
      " 1   group     62 non-null     object\n",
      " 2   visitors  62 non-null     int64 \n",
      "dtypes: int64(1), object(2)\n",
      "memory usage: 1.6+ KB\n"
     ]
    }
   ],
   "source": [
    "visitors.info()"
   ]
  },
  {
   "cell_type": "markdown",
   "metadata": {},
   "source": [
    "В представленных таблицах в типах данных все нормально, только столбцы date в таблицах  orders и visitors должны быть представлены в типах datetime64.\n",
    "Названия таблиц все переведем к нижнему регистру "
   ]
  },
  {
   "cell_type": "code",
   "execution_count": 9,
   "metadata": {},
   "outputs": [],
   "source": [
    "#Переведем названия столбцов в один регистр\n",
    "data.columns = data.columns.str.lower()\n",
    "orders.columns = ['transaction_id', 'visitor_id', 'date', 'revenue', 'group']"
   ]
  },
  {
   "cell_type": "code",
   "execution_count": 10,
   "metadata": {},
   "outputs": [
    {
     "data": {
      "text/plain": [
       "hypothesis    0\n",
       "reach         0\n",
       "impact        0\n",
       "confidence    0\n",
       "efforts       0\n",
       "dtype: int64"
      ]
     },
     "execution_count": 10,
     "metadata": {},
     "output_type": "execute_result"
    }
   ],
   "source": [
    "# Подсчитаем количество пропусков пропусков  в таблице data\n",
    "data.isna().sum()"
   ]
  },
  {
   "cell_type": "code",
   "execution_count": 11,
   "metadata": {},
   "outputs": [
    {
     "name": "stdout",
     "output_type": "stream",
     "text": [
      "Количество дибликатов в  таблице data 0\n"
     ]
    }
   ],
   "source": [
    "#Подсчитаем количество дибликатов\n",
    "print(f'Количество дибликатов в  таблице data {data.duplicated().sum()}')"
   ]
  },
  {
   "cell_type": "code",
   "execution_count": 12,
   "metadata": {
    "scrolled": true
   },
   "outputs": [
    {
     "data": {
      "text/plain": [
       "transaction_id    0\n",
       "visitor_id        0\n",
       "date              0\n",
       "revenue           0\n",
       "group             0\n",
       "dtype: int64"
      ]
     },
     "execution_count": 12,
     "metadata": {},
     "output_type": "execute_result"
    }
   ],
   "source": [
    "# Подсчитаем количество пропусков пропусков  в таблице orders\n",
    "orders.isna().sum()"
   ]
  },
  {
   "cell_type": "code",
   "execution_count": 13,
   "metadata": {},
   "outputs": [
    {
     "name": "stdout",
     "output_type": "stream",
     "text": [
      "Количество дибликатов в  таблице orders 0\n"
     ]
    }
   ],
   "source": [
    "#Подсчитаем количество дибликатов\n",
    "print(f'Количество дибликатов в  таблице orders {orders.duplicated().sum()}')"
   ]
  },
  {
   "cell_type": "code",
   "execution_count": 14,
   "metadata": {},
   "outputs": [
    {
     "data": {
      "text/plain": [
       "date        0\n",
       "group       0\n",
       "visitors    0\n",
       "dtype: int64"
      ]
     },
     "execution_count": 14,
     "metadata": {},
     "output_type": "execute_result"
    }
   ],
   "source": [
    "# Подсчитаем количество пропусков пропусков  в таблице visitors\n",
    "visitors.isna().sum()"
   ]
  },
  {
   "cell_type": "code",
   "execution_count": 15,
   "metadata": {},
   "outputs": [
    {
     "name": "stdout",
     "output_type": "stream",
     "text": [
      "Количество дибликатов в  таблице visitors 0\n"
     ]
    }
   ],
   "source": [
    "#Подсчитаем количество дибликатов\n",
    "print(f'Количество дибликатов в  таблице visitors {visitors.duplicated().sum()}')"
   ]
  },
  {
   "cell_type": "markdown",
   "metadata": {},
   "source": [
    "Пропусков нет, дубликатов тоже"
   ]
  },
  {
   "cell_type": "code",
   "execution_count": 16,
   "metadata": {},
   "outputs": [],
   "source": [
    "#Изменим типы данных далее\n",
    "visitors['date'] = pd.to_datetime(visitors['date'])\n",
    "orders['date'] = pd.to_datetime(orders['date'])"
   ]
  },
  {
   "cell_type": "code",
   "execution_count": 17,
   "metadata": {},
   "outputs": [
    {
     "data": {
      "text/plain": [
       "count    1.197000e+03\n",
       "mean     8.348006e+03\n",
       "std      3.919113e+04\n",
       "min      5.000000e+01\n",
       "25%      1.220000e+03\n",
       "50%      2.978000e+03\n",
       "75%      8.290000e+03\n",
       "max      1.294500e+06\n",
       "Name: revenue, dtype: float64"
      ]
     },
     "execution_count": 17,
     "metadata": {},
     "output_type": "execute_result"
    }
   ],
   "source": [
    "# ПРоверим аномальные значения\n",
    "orders['revenue'].describe()\n"
   ]
  },
  {
   "cell_type": "code",
   "execution_count": 18,
   "metadata": {},
   "outputs": [
    {
     "data": {
      "image/png": "[encoded data removed]",
      "text/plain": [
       "<Figure size 640x480 with 1 Axes>"
      ]
     },
     "metadata": {},
     "output_type": "display_data"
    }
   ],
   "source": [
    "orders.plot(\n",
    "kind='box',\n",
    "y='revenue',\n",
    "label='выручка',\n",
    "grid=True,\n",
    "legend=True\n",
    ")\n",
    "plt.title('Диаграмма размаха выручки')\n",
    "plt.xlabel('')\n",
    "plt.ylabel('выручка* млн')\n",
    "plt.show()\n"
   ]
  },
  {
   "cell_type": "markdown",
   "metadata": {},
   "source": [
    "По графику видно, что есть значения далеко выходящие по стоимости от большинства закащов, особняком стоит заказ в 1,2 млн, что не кажется правдоподобным. Сейчас пока не будем проводить порезку данных, отбросим выбивающиеся значения позднее, чтобы провести анализ и по очищенным данным и по сырым "
   ]
  },
  {
   "cell_type": "code",
   "execution_count": 19,
   "metadata": {},
   "outputs": [
    {
     "data": {
      "text/plain": [
       "count     62.000000\n",
       "mean     607.290323\n",
       "std      114.400560\n",
       "min      361.000000\n",
       "25%      534.000000\n",
       "50%      624.500000\n",
       "75%      710.500000\n",
       "max      770.000000\n",
       "Name: visitors, dtype: float64"
      ]
     },
     "execution_count": 19,
     "metadata": {},
     "output_type": "execute_result"
    }
   ],
   "source": [
    "visitors['visitors'].describe()"
   ]
  },
  {
   "cell_type": "code",
   "execution_count": 20,
   "metadata": {},
   "outputs": [
    {
     "data": {
      "image/png": "[encoded data removed]",
      "text/plain": [
       "<Figure size 640x480 with 1 Axes>"
      ]
     },
     "metadata": {},
     "output_type": "display_data"
    }
   ],
   "source": [
    "visitors.plot(\n",
    "kind='box',\n",
    "y='visitors',\n",
    "label='посетители количество',\n",
    "grid=True,\n",
    "legend=True, \n",
    ")\n",
    "plt.title('Диаграмма размаха кол-ва посетителей')\n",
    "plt.xlabel('')\n",
    "plt.ylabel('кол-во посетителей')\n",
    "plt.show()"
   ]
  },
  {
   "cell_type": "code",
   "execution_count": 21,
   "metadata": {},
   "outputs": [
    {
     "data": {
      "image/png": "[encoded data removed]",
      "text/plain": [
       "<Figure size 640x480 with 1 Axes>"
      ]
     },
     "metadata": {},
     "output_type": "display_data"
    }
   ],
   "source": [
    "visitors.query('group == \"A\"').plot(\n",
    "kind='box',\n",
    "y='visitors',\n",
    "label='посетители количество',\n",
    "grid=True,\n",
    "legend=True, \n",
    ")\n",
    "plt.title('Диаграмма размаха кол-ва посетителей A')\n",
    "plt.xlabel('')\n",
    "plt.ylabel('кол-во посетителей')\n",
    "plt.show()"
   ]
  },
  {
   "cell_type": "code",
   "execution_count": 22,
   "metadata": {},
   "outputs": [
    {
     "data": {
      "image/png": "[encoded data removed]",
      "text/plain": [
       "<Figure size 640x480 with 1 Axes>"
      ]
     },
     "metadata": {},
     "output_type": "display_data"
    }
   ],
   "source": [
    "visitors.query('group == \"B\"').plot(\n",
    "kind='box',\n",
    "y='visitors',\n",
    "label='посетители количество',\n",
    "grid=True,\n",
    "legend=True, \n",
    ")\n",
    "plt.title('Диаграмма размаха кол-ва посетителей B')\n",
    "plt.xlabel('')\n",
    "plt.ylabel('кол-во посетителей')\n",
    "plt.show()"
   ]
  },
  {
   "cell_type": "markdown",
   "metadata": {},
   "source": [
    "По количеству посетителей никаких аномалий не найдено"
   ]
  },
  {
   "cell_type": "markdown",
   "metadata": {},
   "source": [
    "### Приоритизация гипотез   по увеличению выручки интернет-магазина с помощью  фреймворков ICE и RICE сортировка по убыванию приоритета"
   ]
  },
  {
   "cell_type": "code",
   "execution_count": 23,
   "metadata": {},
   "outputs": [
    {
     "data": {
      "text/html": [
       "<div>\n",
       "<style scoped>\n",
       "    .dataframe tbody tr th:only-of-type {\n",
       "        vertical-align: middle;\n",
       "    }\n",
       "\n",
       "    .dataframe tbody tr th {\n",
       "        vertical-align: top;\n",
       "    }\n",
       "\n",
       "    .dataframe thead th {\n",
       "        text-align: right;\n",
       "    }\n",
       "</style>\n",
       "<table border=\"1\" class=\"dataframe\">\n",
       "  <thead>\n",
       "    <tr style=\"text-align: right;\">\n",
       "      <th></th>\n",
       "      <th>hypothesis</th>\n",
       "      <th>ice</th>\n",
       "    </tr>\n",
       "  </thead>\n",
       "  <tbody>\n",
       "    <tr>\n",
       "      <th>8</th>\n",
       "      <td>Запустить акцию, дающую скидку на товар в день рождения</td>\n",
       "      <td>16.20</td>\n",
       "    </tr>\n",
       "    <tr>\n",
       "      <th>0</th>\n",
       "      <td>Добавить два новых канала привлечения трафика, что позволит привлекать на 30% больше пользователей</td>\n",
       "      <td>13.33</td>\n",
       "    </tr>\n",
       "    <tr>\n",
       "      <th>7</th>\n",
       "      <td>Добавить форму подписки на все основные страницы, чтобы собрать базу клиентов для email-рассылок</td>\n",
       "      <td>11.20</td>\n",
       "    </tr>\n",
       "    <tr>\n",
       "      <th>6</th>\n",
       "      <td>Показать на главной странице баннеры с актуальными акциями и распродажами, чтобы увеличить конверсию</td>\n",
       "      <td>8.00</td>\n",
       "    </tr>\n",
       "    <tr>\n",
       "      <th>2</th>\n",
       "      <td>Добавить блоки рекомендаций товаров на сайт интернет магазина, чтобы повысить конверсию и средний чек заказа</td>\n",
       "      <td>7.00</td>\n",
       "    </tr>\n",
       "    <tr>\n",
       "      <th>1</th>\n",
       "      <td>Запустить собственную службу доставки, что сократит срок доставки заказов</td>\n",
       "      <td>2.00</td>\n",
       "    </tr>\n",
       "    <tr>\n",
       "      <th>5</th>\n",
       "      <td>Добавить страницу отзывов клиентов о магазине, что позволит увеличить количество заказов</td>\n",
       "      <td>1.33</td>\n",
       "    </tr>\n",
       "    <tr>\n",
       "      <th>3</th>\n",
       "      <td>Изменить структура категорий, что увеличит конверсию, т.к. пользователи быстрее найдут нужный товар</td>\n",
       "      <td>1.12</td>\n",
       "    </tr>\n",
       "    <tr>\n",
       "      <th>4</th>\n",
       "      <td>Изменить цвет фона главной страницы, чтобы увеличить вовлеченность пользователей</td>\n",
       "      <td>1.00</td>\n",
       "    </tr>\n",
       "  </tbody>\n",
       "</table>\n",
       "</div>"
      ],
      "text/plain": [
       "                                                                                                     hypothesis  \\\n",
       "8                                                       Запустить акцию, дающую скидку на товар в день рождения   \n",
       "0            Добавить два новых канала привлечения трафика, что позволит привлекать на 30% больше пользователей   \n",
       "7              Добавить форму подписки на все основные страницы, чтобы собрать базу клиентов для email-рассылок   \n",
       "6          Показать на главной странице баннеры с актуальными акциями и распродажами, чтобы увеличить конверсию   \n",
       "2  Добавить блоки рекомендаций товаров на сайт интернет магазина, чтобы повысить конверсию и средний чек заказа   \n",
       "1                                     Запустить собственную службу доставки, что сократит срок доставки заказов   \n",
       "5                      Добавить страницу отзывов клиентов о магазине, что позволит увеличить количество заказов   \n",
       "3           Изменить структура категорий, что увеличит конверсию, т.к. пользователи быстрее найдут нужный товар   \n",
       "4                              Изменить цвет фона главной страницы, чтобы увеличить вовлеченность пользователей   \n",
       "\n",
       "     ice  \n",
       "8  16.20  \n",
       "0  13.33  \n",
       "7  11.20  \n",
       "6   8.00  \n",
       "2   7.00  \n",
       "1   2.00  \n",
       "5   1.33  \n",
       "3   1.12  \n",
       "4   1.00  "
      ]
     },
     "execution_count": 23,
     "metadata": {},
     "output_type": "execute_result"
    }
   ],
   "source": [
    "#Посчитаем ICE для гипотез, добавим полученные значения ICE к существующей таблице\n",
    "data['ice'] = round((data['impact'] * data['confidence'] /data['efforts']),2)\n",
    "pd.set_option('max_colwidth', 200)\n",
    "gip1 = data[['hypothesis', 'ice']].sort_values(by='ice', ascending=False)\n",
    "gip1\n"
   ]
  },
  {
   "cell_type": "markdown",
   "metadata": {},
   "source": [
    "По данному тесту наиболее перспективные гипотезы под индексами 8,0,7,6,2"
   ]
  },
  {
   "cell_type": "code",
   "execution_count": 24,
   "metadata": {},
   "outputs": [
    {
     "data": {
      "text/html": [
       "<div>\n",
       "<style scoped>\n",
       "    .dataframe tbody tr th:only-of-type {\n",
       "        vertical-align: middle;\n",
       "    }\n",
       "\n",
       "    .dataframe tbody tr th {\n",
       "        vertical-align: top;\n",
       "    }\n",
       "\n",
       "    .dataframe thead th {\n",
       "        text-align: right;\n",
       "    }\n",
       "</style>\n",
       "<table border=\"1\" class=\"dataframe\">\n",
       "  <thead>\n",
       "    <tr style=\"text-align: right;\">\n",
       "      <th></th>\n",
       "      <th>hypothesis</th>\n",
       "      <th>rice</th>\n",
       "    </tr>\n",
       "  </thead>\n",
       "  <tbody>\n",
       "    <tr>\n",
       "      <th>7</th>\n",
       "      <td>Добавить форму подписки на все основные страницы, чтобы собрать базу клиентов для email-рассылок</td>\n",
       "      <td>112.0</td>\n",
       "    </tr>\n",
       "    <tr>\n",
       "      <th>2</th>\n",
       "      <td>Добавить блоки рекомендаций товаров на сайт интернет магазина, чтобы повысить конверсию и средний чек заказа</td>\n",
       "      <td>56.0</td>\n",
       "    </tr>\n",
       "    <tr>\n",
       "      <th>0</th>\n",
       "      <td>Добавить два новых канала привлечения трафика, что позволит привлекать на 30% больше пользователей</td>\n",
       "      <td>40.0</td>\n",
       "    </tr>\n",
       "    <tr>\n",
       "      <th>6</th>\n",
       "      <td>Показать на главной странице баннеры с актуальными акциями и распродажами, чтобы увеличить конверсию</td>\n",
       "      <td>40.0</td>\n",
       "    </tr>\n",
       "    <tr>\n",
       "      <th>8</th>\n",
       "      <td>Запустить акцию, дающую скидку на товар в день рождения</td>\n",
       "      <td>16.2</td>\n",
       "    </tr>\n",
       "    <tr>\n",
       "      <th>3</th>\n",
       "      <td>Изменить структура категорий, что увеличит конверсию, т.к. пользователи быстрее найдут нужный товар</td>\n",
       "      <td>9.0</td>\n",
       "    </tr>\n",
       "    <tr>\n",
       "      <th>1</th>\n",
       "      <td>Запустить собственную службу доставки, что сократит срок доставки заказов</td>\n",
       "      <td>4.0</td>\n",
       "    </tr>\n",
       "    <tr>\n",
       "      <th>5</th>\n",
       "      <td>Добавить страницу отзывов клиентов о магазине, что позволит увеличить количество заказов</td>\n",
       "      <td>4.0</td>\n",
       "    </tr>\n",
       "    <tr>\n",
       "      <th>4</th>\n",
       "      <td>Изменить цвет фона главной страницы, чтобы увеличить вовлеченность пользователей</td>\n",
       "      <td>3.0</td>\n",
       "    </tr>\n",
       "  </tbody>\n",
       "</table>\n",
       "</div>"
      ],
      "text/plain": [
       "                                                                                                     hypothesis  \\\n",
       "7              Добавить форму подписки на все основные страницы, чтобы собрать базу клиентов для email-рассылок   \n",
       "2  Добавить блоки рекомендаций товаров на сайт интернет магазина, чтобы повысить конверсию и средний чек заказа   \n",
       "0            Добавить два новых канала привлечения трафика, что позволит привлекать на 30% больше пользователей   \n",
       "6          Показать на главной странице баннеры с актуальными акциями и распродажами, чтобы увеличить конверсию   \n",
       "8                                                       Запустить акцию, дающую скидку на товар в день рождения   \n",
       "3           Изменить структура категорий, что увеличит конверсию, т.к. пользователи быстрее найдут нужный товар   \n",
       "1                                     Запустить собственную службу доставки, что сократит срок доставки заказов   \n",
       "5                      Добавить страницу отзывов клиентов о магазине, что позволит увеличить количество заказов   \n",
       "4                              Изменить цвет фона главной страницы, чтобы увеличить вовлеченность пользователей   \n",
       "\n",
       "    rice  \n",
       "7  112.0  \n",
       "2   56.0  \n",
       "0   40.0  \n",
       "6   40.0  \n",
       "8   16.2  \n",
       "3    9.0  \n",
       "1    4.0  \n",
       "5    4.0  \n",
       "4    3.0  "
      ]
     },
     "execution_count": 24,
     "metadata": {},
     "output_type": "execute_result"
    }
   ],
   "source": [
    "#Посчитаем RICE для гипотез, добавим полученные значения RICE к существующей таблице\n",
    "data['rice'] = round((data['reach'] * data['impact']* data['confidence']/data['efforts']),2)\n",
    "pd.set_option('max_colwidth', 200)\n",
    "gip2 = data[['hypothesis', 'rice']].sort_values(by='rice', ascending=False)\n",
    "gip2\n"
   ]
  },
  {
   "cell_type": "markdown",
   "metadata": {},
   "source": [
    "По данному тесту наиболее перспективные гипотезы под индексами 7,2,0,6,8. В пятерку лидеров вошли те же гипотезы, но порядок их разный. К примеру по индексу RICE на первое место занимает гипотеза 7, она же по ICE занимает третье место."
   ]
  },
  {
   "cell_type": "markdown",
   "metadata": {},
   "source": [
    "#### Изменение приоритизации гипотез при применении RICE вместо ICE. Причина изменений"
   ]
  },
  {
   "cell_type": "markdown",
   "metadata": {},
   "source": [
    "Чтобы понять  причины  изменений при пересчете фреймворков ICE и RICE выведем таблицу data полностью"
   ]
  },
  {
   "cell_type": "code",
   "execution_count": 25,
   "metadata": {},
   "outputs": [
    {
     "data": {
      "text/html": [
       "<div>\n",
       "<style scoped>\n",
       "    .dataframe tbody tr th:only-of-type {\n",
       "        vertical-align: middle;\n",
       "    }\n",
       "\n",
       "    .dataframe tbody tr th {\n",
       "        vertical-align: top;\n",
       "    }\n",
       "\n",
       "    .dataframe thead th {\n",
       "        text-align: right;\n",
       "    }\n",
       "</style>\n",
       "<table border=\"1\" class=\"dataframe\">\n",
       "  <thead>\n",
       "    <tr style=\"text-align: right;\">\n",
       "      <th></th>\n",
       "      <th>hypothesis</th>\n",
       "      <th>reach</th>\n",
       "      <th>impact</th>\n",
       "      <th>confidence</th>\n",
       "      <th>efforts</th>\n",
       "      <th>ice</th>\n",
       "      <th>rice</th>\n",
       "    </tr>\n",
       "  </thead>\n",
       "  <tbody>\n",
       "    <tr>\n",
       "      <th>0</th>\n",
       "      <td>Добавить два новых канала привлечения трафика, что позволит привлекать на 30% больше пользователей</td>\n",
       "      <td>3</td>\n",
       "      <td>10</td>\n",
       "      <td>8</td>\n",
       "      <td>6</td>\n",
       "      <td>13.33</td>\n",
       "      <td>40.0</td>\n",
       "    </tr>\n",
       "    <tr>\n",
       "      <th>1</th>\n",
       "      <td>Запустить собственную службу доставки, что сократит срок доставки заказов</td>\n",
       "      <td>2</td>\n",
       "      <td>5</td>\n",
       "      <td>4</td>\n",
       "      <td>10</td>\n",
       "      <td>2.00</td>\n",
       "      <td>4.0</td>\n",
       "    </tr>\n",
       "    <tr>\n",
       "      <th>2</th>\n",
       "      <td>Добавить блоки рекомендаций товаров на сайт интернет магазина, чтобы повысить конверсию и средний чек заказа</td>\n",
       "      <td>8</td>\n",
       "      <td>3</td>\n",
       "      <td>7</td>\n",
       "      <td>3</td>\n",
       "      <td>7.00</td>\n",
       "      <td>56.0</td>\n",
       "    </tr>\n",
       "    <tr>\n",
       "      <th>3</th>\n",
       "      <td>Изменить структура категорий, что увеличит конверсию, т.к. пользователи быстрее найдут нужный товар</td>\n",
       "      <td>8</td>\n",
       "      <td>3</td>\n",
       "      <td>3</td>\n",
       "      <td>8</td>\n",
       "      <td>1.12</td>\n",
       "      <td>9.0</td>\n",
       "    </tr>\n",
       "    <tr>\n",
       "      <th>4</th>\n",
       "      <td>Изменить цвет фона главной страницы, чтобы увеличить вовлеченность пользователей</td>\n",
       "      <td>3</td>\n",
       "      <td>1</td>\n",
       "      <td>1</td>\n",
       "      <td>1</td>\n",
       "      <td>1.00</td>\n",
       "      <td>3.0</td>\n",
       "    </tr>\n",
       "    <tr>\n",
       "      <th>5</th>\n",
       "      <td>Добавить страницу отзывов клиентов о магазине, что позволит увеличить количество заказов</td>\n",
       "      <td>3</td>\n",
       "      <td>2</td>\n",
       "      <td>2</td>\n",
       "      <td>3</td>\n",
       "      <td>1.33</td>\n",
       "      <td>4.0</td>\n",
       "    </tr>\n",
       "    <tr>\n",
       "      <th>6</th>\n",
       "      <td>Показать на главной странице баннеры с актуальными акциями и распродажами, чтобы увеличить конверсию</td>\n",
       "      <td>5</td>\n",
       "      <td>3</td>\n",
       "      <td>8</td>\n",
       "      <td>3</td>\n",
       "      <td>8.00</td>\n",
       "      <td>40.0</td>\n",
       "    </tr>\n",
       "    <tr>\n",
       "      <th>7</th>\n",
       "      <td>Добавить форму подписки на все основные страницы, чтобы собрать базу клиентов для email-рассылок</td>\n",
       "      <td>10</td>\n",
       "      <td>7</td>\n",
       "      <td>8</td>\n",
       "      <td>5</td>\n",
       "      <td>11.20</td>\n",
       "      <td>112.0</td>\n",
       "    </tr>\n",
       "    <tr>\n",
       "      <th>8</th>\n",
       "      <td>Запустить акцию, дающую скидку на товар в день рождения</td>\n",
       "      <td>1</td>\n",
       "      <td>9</td>\n",
       "      <td>9</td>\n",
       "      <td>5</td>\n",
       "      <td>16.20</td>\n",
       "      <td>16.2</td>\n",
       "    </tr>\n",
       "  </tbody>\n",
       "</table>\n",
       "</div>"
      ],
      "text/plain": [
       "                                                                                                     hypothesis  \\\n",
       "0            Добавить два новых канала привлечения трафика, что позволит привлекать на 30% больше пользователей   \n",
       "1                                     Запустить собственную службу доставки, что сократит срок доставки заказов   \n",
       "2  Добавить блоки рекомендаций товаров на сайт интернет магазина, чтобы повысить конверсию и средний чек заказа   \n",
       "3           Изменить структура категорий, что увеличит конверсию, т.к. пользователи быстрее найдут нужный товар   \n",
       "4                              Изменить цвет фона главной страницы, чтобы увеличить вовлеченность пользователей   \n",
       "5                      Добавить страницу отзывов клиентов о магазине, что позволит увеличить количество заказов   \n",
       "6          Показать на главной странице баннеры с актуальными акциями и распродажами, чтобы увеличить конверсию   \n",
       "7              Добавить форму подписки на все основные страницы, чтобы собрать базу клиентов для email-рассылок   \n",
       "8                                                       Запустить акцию, дающую скидку на товар в день рождения   \n",
       "\n",
       "   reach  impact  confidence  efforts    ice   rice  \n",
       "0      3      10           8        6  13.33   40.0  \n",
       "1      2       5           4       10   2.00    4.0  \n",
       "2      8       3           7        3   7.00   56.0  \n",
       "3      8       3           3        8   1.12    9.0  \n",
       "4      3       1           1        1   1.00    3.0  \n",
       "5      3       2           2        3   1.33    4.0  \n",
       "6      5       3           8        3   8.00   40.0  \n",
       "7     10       7           8        5  11.20  112.0  \n",
       "8      1       9           9        5  16.20   16.2  "
      ]
     },
     "execution_count": 25,
     "metadata": {},
     "output_type": "execute_result"
    }
   ],
   "source": [
    "data"
   ]
  },
  {
   "cell_type": "markdown",
   "metadata": {},
   "source": [
    "Отличие этих двух методов приоритизации  в том,что при расчете RICE учитывается показатель Reach, который оказывает, скольких пользователей затронет изменение, которое мы хотим внести. показатель reach по таблице у гипотезы с индексом 7 самый большой 10, далее у гипотез с индексами 2, 3.  "
   ]
  },
  {
   "cell_type": "markdown",
   "metadata": {},
   "source": [
    "Думаю, стоит выбрвть для теста гипеотезу 0 "
   ]
  },
  {
   "cell_type": "code",
   "execution_count": 26,
   "metadata": {},
   "outputs": [
    {
     "data": {
      "text/html": [
       "<div>\n",
       "<style scoped>\n",
       "    .dataframe tbody tr th:only-of-type {\n",
       "        vertical-align: middle;\n",
       "    }\n",
       "\n",
       "    .dataframe tbody tr th {\n",
       "        vertical-align: top;\n",
       "    }\n",
       "\n",
       "    .dataframe thead th {\n",
       "        text-align: right;\n",
       "    }\n",
       "</style>\n",
       "<table border=\"1\" class=\"dataframe\">\n",
       "  <thead>\n",
       "    <tr style=\"text-align: right;\">\n",
       "      <th></th>\n",
       "      <th>transaction_id</th>\n",
       "      <th>visitor_id</th>\n",
       "      <th>date</th>\n",
       "      <th>revenue</th>\n",
       "      <th>group</th>\n",
       "    </tr>\n",
       "  </thead>\n",
       "  <tbody>\n",
       "    <tr>\n",
       "      <th>0</th>\n",
       "      <td>3667963787</td>\n",
       "      <td>3312258926</td>\n",
       "      <td>2019-08-15</td>\n",
       "      <td>1650</td>\n",
       "      <td>B</td>\n",
       "    </tr>\n",
       "    <tr>\n",
       "      <th>1</th>\n",
       "      <td>2804400009</td>\n",
       "      <td>3642806036</td>\n",
       "      <td>2019-08-15</td>\n",
       "      <td>730</td>\n",
       "      <td>B</td>\n",
       "    </tr>\n",
       "    <tr>\n",
       "      <th>2</th>\n",
       "      <td>2961555356</td>\n",
       "      <td>4069496402</td>\n",
       "      <td>2019-08-15</td>\n",
       "      <td>400</td>\n",
       "      <td>A</td>\n",
       "    </tr>\n",
       "    <tr>\n",
       "      <th>3</th>\n",
       "      <td>3797467345</td>\n",
       "      <td>1196621759</td>\n",
       "      <td>2019-08-15</td>\n",
       "      <td>9759</td>\n",
       "      <td>B</td>\n",
       "    </tr>\n",
       "    <tr>\n",
       "      <th>4</th>\n",
       "      <td>2282983706</td>\n",
       "      <td>2322279887</td>\n",
       "      <td>2019-08-15</td>\n",
       "      <td>2308</td>\n",
       "      <td>B</td>\n",
       "    </tr>\n",
       "  </tbody>\n",
       "</table>\n",
       "</div>"
      ],
      "text/plain": [
       "   transaction_id  visitor_id       date  revenue group\n",
       "0      3667963787  3312258926 2019-08-15     1650     B\n",
       "1      2804400009  3642806036 2019-08-15      730     B\n",
       "2      2961555356  4069496402 2019-08-15      400     A\n",
       "3      3797467345  1196621759 2019-08-15     9759     B\n",
       "4      2282983706  2322279887 2019-08-15     2308     B"
      ]
     },
     "execution_count": 26,
     "metadata": {},
     "output_type": "execute_result"
    }
   ],
   "source": [
    "orders.head()"
   ]
  },
  {
   "cell_type": "code",
   "execution_count": 27,
   "metadata": {},
   "outputs": [
    {
     "data": {
      "text/html": [
       "<div>\n",
       "<style scoped>\n",
       "    .dataframe tbody tr th:only-of-type {\n",
       "        vertical-align: middle;\n",
       "    }\n",
       "\n",
       "    .dataframe tbody tr th {\n",
       "        vertical-align: top;\n",
       "    }\n",
       "\n",
       "    .dataframe thead th {\n",
       "        text-align: right;\n",
       "    }\n",
       "</style>\n",
       "<table border=\"1\" class=\"dataframe\">\n",
       "  <thead>\n",
       "    <tr style=\"text-align: right;\">\n",
       "      <th></th>\n",
       "      <th>date</th>\n",
       "      <th>group</th>\n",
       "      <th>visitors</th>\n",
       "    </tr>\n",
       "  </thead>\n",
       "  <tbody>\n",
       "    <tr>\n",
       "      <th>0</th>\n",
       "      <td>2019-08-01</td>\n",
       "      <td>A</td>\n",
       "      <td>719</td>\n",
       "    </tr>\n",
       "    <tr>\n",
       "      <th>1</th>\n",
       "      <td>2019-08-02</td>\n",
       "      <td>A</td>\n",
       "      <td>619</td>\n",
       "    </tr>\n",
       "    <tr>\n",
       "      <th>2</th>\n",
       "      <td>2019-08-03</td>\n",
       "      <td>A</td>\n",
       "      <td>507</td>\n",
       "    </tr>\n",
       "    <tr>\n",
       "      <th>3</th>\n",
       "      <td>2019-08-04</td>\n",
       "      <td>A</td>\n",
       "      <td>717</td>\n",
       "    </tr>\n",
       "    <tr>\n",
       "      <th>4</th>\n",
       "      <td>2019-08-05</td>\n",
       "      <td>A</td>\n",
       "      <td>756</td>\n",
       "    </tr>\n",
       "  </tbody>\n",
       "</table>\n",
       "</div>"
      ],
      "text/plain": [
       "        date group  visitors\n",
       "0 2019-08-01     A       719\n",
       "1 2019-08-02     A       619\n",
       "2 2019-08-03     A       507\n",
       "3 2019-08-04     A       717\n",
       "4 2019-08-05     A       756"
      ]
     },
     "execution_count": 27,
     "metadata": {},
     "output_type": "execute_result"
    }
   ],
   "source": [
    "visitors.head()"
   ]
  },
  {
   "cell_type": "markdown",
   "metadata": {},
   "source": [
    "### Анализ A/B-теста"
   ]
  },
  {
   "cell_type": "markdown",
   "metadata": {},
   "source": [
    "#### График кумулятивной выручки по группам. Выводы и предположения"
   ]
  },
  {
   "cell_type": "code",
   "execution_count": 28,
   "metadata": {},
   "outputs": [
    {
     "data": {
      "image/png": "[encoded data removed]",
      "text/plain": [
       "<Figure size 1500x700 with 1 Axes>"
      ]
     },
     "metadata": {},
     "output_type": "display_data"
    }
   ],
   "source": [
    "\n",
    "datesGroups = orders[['date','group']].drop_duplicates() \n",
    "ordersAggregated = datesGroups.apply(lambda x: orders[np.logical_and(orders['date'] <= x['date'], orders['group'] == x['group'])]\\\n",
    ".agg({'date' : 'max', 'group' : 'max', 'transaction_id' : 'nunique', 'visitor_id' : 'nunique', 'revenue' : 'sum'}), axis=1).sort_values(by=['date','group'])\n",
    "visitorsAggregated = datesGroups.apply(lambda x: visitors[np.logical_and(visitors['date'] <= x['date'], visitors['group'] == x['group'])].agg({'date' : 'max', 'group' : 'max', 'visitors' : 'sum'}), axis=1).sort_values(by=['date','group'])\n",
    "cumulativeData = ordersAggregated.merge(visitorsAggregated, left_on=['date', 'group'], right_on=['date', 'group'])\n",
    "cumulativeData.columns = ['date', 'group', 'orders', 'buyers', 'revenue', 'visitors']\n",
    "\n",
    "cumulativeRevenueA = cumulativeData[cumulativeData['group']=='A'][['date','revenue', 'orders']]\n",
    "cumulativeRevenueB = cumulativeData[cumulativeData['group']=='B'][['date','revenue', 'orders']]\n",
    "# Строим график выручки группы А\n",
    "plt.figure(figsize=(15, 7))\n",
    "plt.plot(cumulativeRevenueA['date'], cumulativeRevenueA['revenue'], label='A')\n",
    "\n",
    "# Строим график выручки группы B\n",
    "plt.plot(cumulativeRevenueB['date'], cumulativeRevenueB['revenue'], label='B')\n",
    "plt.legend() \n",
    "plt.title('График кумулятивной выручки по группам')\n",
    "plt.xlabel('дата')\n",
    "plt.ylabel('выручка')\n",
    "plt.show()"
   ]
  },
  {
   "cell_type": "markdown",
   "metadata": {},
   "source": [
    "В течение всего эксперимента группа В лидирует по кумулятивной выручке, ближе к середине дает резкий скачок, видимо, за счет аномальных значений выручки"
   ]
  },
  {
   "cell_type": "markdown",
   "metadata": {},
   "source": [
    "#### График кумулятивного среднего чека по группам. Выводы и предположения"
   ]
  },
  {
   "cell_type": "code",
   "execution_count": 29,
   "metadata": {},
   "outputs": [
    {
     "data": {
      "image/png": "[encoded data removed]",
      "text/plain": [
       "<Figure size 1500x700 with 1 Axes>"
      ]
     },
     "metadata": {},
     "output_type": "display_data"
    }
   ],
   "source": [
    "plt.figure(figsize=(15, 7))\n",
    "plt.plot(cumulativeRevenueA['date'], cumulativeRevenueA['revenue']/cumulativeRevenueA['orders'], label='A')\n",
    "plt.plot(cumulativeRevenueB['date'], cumulativeRevenueB['revenue']/cumulativeRevenueB['orders'], label='B')\n",
    "plt.legend()\n",
    "plt.title('График кумулятивного среднего чека по группам')\n",
    "plt.xlabel('дата')\n",
    "plt.ylabel('средний чек')\n",
    "plt.show()"
   ]
  },
  {
   "cell_type": "markdown",
   "metadata": {},
   "source": [
    "В течение эксперимента кумулятивный средний чек больше в группе В в большей части эксперимента, в середине отмечается резкий скачое среднего чека, видимо, за счет аномальных значений "
   ]
  },
  {
   "cell_type": "markdown",
   "metadata": {},
   "source": [
    "#### График относительного изменения кумулятивного среднего чека группы B к группе A. Выводы и предположения"
   ]
  },
  {
   "cell_type": "code",
   "execution_count": 30,
   "metadata": {},
   "outputs": [
    {
     "data": {
      "image/png": "[encoded data removed]",
      "text/plain": [
       "<Figure size 1500x700 with 1 Axes>"
      ]
     },
     "metadata": {},
     "output_type": "display_data"
    }
   ],
   "source": [
    "mergedCumulativeRevenue = cumulativeRevenueA.merge(cumulativeRevenueB, left_on='date', right_on='date', how='left', suffixes=['A', 'B'])\n",
    "plt.figure(figsize=(15, 7))\n",
    "plt.plot(mergedCumulativeRevenue['date'], (mergedCumulativeRevenue['revenueB']/mergedCumulativeRevenue['ordersB'])/(mergedCumulativeRevenue['revenueA']/mergedCumulativeRevenue['ordersA'])-1)\n",
    "plt.axhline(y=0, color='black', linestyle='--')\n",
    "plt.title('График относительного изменения кумулятивного среднего чека группы B к группе A')\n",
    "plt.xlabel('дата')\n",
    "plt.ylabel('отношение В/А')\n",
    "plt.show()"
   ]
  },
  {
   "cell_type": "markdown",
   "metadata": {},
   "source": [
    "По графику видны резкие скачки в относительном измении среднего чека, что говорит, о наличии аномальных значений"
   ]
  },
  {
   "cell_type": "code",
   "execution_count": 31,
   "metadata": {},
   "outputs": [
    {
     "data": {
      "text/html": [
       "<div>\n",
       "<style scoped>\n",
       "    .dataframe tbody tr th:only-of-type {\n",
       "        vertical-align: middle;\n",
       "    }\n",
       "\n",
       "    .dataframe tbody tr th {\n",
       "        vertical-align: top;\n",
       "    }\n",
       "\n",
       "    .dataframe thead th {\n",
       "        text-align: right;\n",
       "    }\n",
       "</style>\n",
       "<table border=\"1\" class=\"dataframe\">\n",
       "  <thead>\n",
       "    <tr style=\"text-align: right;\">\n",
       "      <th></th>\n",
       "      <th>date</th>\n",
       "      <th>group</th>\n",
       "      <th>orders</th>\n",
       "      <th>buyers</th>\n",
       "      <th>revenue</th>\n",
       "      <th>visitors</th>\n",
       "    </tr>\n",
       "  </thead>\n",
       "  <tbody>\n",
       "    <tr>\n",
       "      <th>0</th>\n",
       "      <td>2019-08-01</td>\n",
       "      <td>A</td>\n",
       "      <td>24</td>\n",
       "      <td>20</td>\n",
       "      <td>148579</td>\n",
       "      <td>719</td>\n",
       "    </tr>\n",
       "    <tr>\n",
       "      <th>1</th>\n",
       "      <td>2019-08-01</td>\n",
       "      <td>B</td>\n",
       "      <td>21</td>\n",
       "      <td>20</td>\n",
       "      <td>101217</td>\n",
       "      <td>713</td>\n",
       "    </tr>\n",
       "    <tr>\n",
       "      <th>2</th>\n",
       "      <td>2019-08-02</td>\n",
       "      <td>A</td>\n",
       "      <td>44</td>\n",
       "      <td>38</td>\n",
       "      <td>242401</td>\n",
       "      <td>1338</td>\n",
       "    </tr>\n",
       "    <tr>\n",
       "      <th>3</th>\n",
       "      <td>2019-08-02</td>\n",
       "      <td>B</td>\n",
       "      <td>45</td>\n",
       "      <td>43</td>\n",
       "      <td>266748</td>\n",
       "      <td>1294</td>\n",
       "    </tr>\n",
       "    <tr>\n",
       "      <th>4</th>\n",
       "      <td>2019-08-03</td>\n",
       "      <td>A</td>\n",
       "      <td>68</td>\n",
       "      <td>62</td>\n",
       "      <td>354874</td>\n",
       "      <td>1845</td>\n",
       "    </tr>\n",
       "    <tr>\n",
       "      <th>...</th>\n",
       "      <td>...</td>\n",
       "      <td>...</td>\n",
       "      <td>...</td>\n",
       "      <td>...</td>\n",
       "      <td>...</td>\n",
       "      <td>...</td>\n",
       "    </tr>\n",
       "    <tr>\n",
       "      <th>57</th>\n",
       "      <td>2019-08-29</td>\n",
       "      <td>B</td>\n",
       "      <td>596</td>\n",
       "      <td>544</td>\n",
       "      <td>5559398</td>\n",
       "      <td>17708</td>\n",
       "    </tr>\n",
       "    <tr>\n",
       "      <th>58</th>\n",
       "      <td>2019-08-30</td>\n",
       "      <td>A</td>\n",
       "      <td>545</td>\n",
       "      <td>493</td>\n",
       "      <td>4022970</td>\n",
       "      <td>18037</td>\n",
       "    </tr>\n",
       "    <tr>\n",
       "      <th>59</th>\n",
       "      <td>2019-08-30</td>\n",
       "      <td>B</td>\n",
       "      <td>620</td>\n",
       "      <td>567</td>\n",
       "      <td>5774631</td>\n",
       "      <td>18198</td>\n",
       "    </tr>\n",
       "    <tr>\n",
       "      <th>60</th>\n",
       "      <td>2019-08-31</td>\n",
       "      <td>A</td>\n",
       "      <td>557</td>\n",
       "      <td>503</td>\n",
       "      <td>4084803</td>\n",
       "      <td>18736</td>\n",
       "    </tr>\n",
       "    <tr>\n",
       "      <th>61</th>\n",
       "      <td>2019-08-31</td>\n",
       "      <td>B</td>\n",
       "      <td>640</td>\n",
       "      <td>586</td>\n",
       "      <td>5907760</td>\n",
       "      <td>18916</td>\n",
       "    </tr>\n",
       "  </tbody>\n",
       "</table>\n",
       "<p>62 rows × 6 columns</p>\n",
       "</div>"
      ],
      "text/plain": [
       "         date group  orders  buyers  revenue  visitors\n",
       "0  2019-08-01     A      24      20   148579       719\n",
       "1  2019-08-01     B      21      20   101217       713\n",
       "2  2019-08-02     A      44      38   242401      1338\n",
       "3  2019-08-02     B      45      43   266748      1294\n",
       "4  2019-08-03     A      68      62   354874      1845\n",
       "..        ...   ...     ...     ...      ...       ...\n",
       "57 2019-08-29     B     596     544  5559398     17708\n",
       "58 2019-08-30     A     545     493  4022970     18037\n",
       "59 2019-08-30     B     620     567  5774631     18198\n",
       "60 2019-08-31     A     557     503  4084803     18736\n",
       "61 2019-08-31     B     640     586  5907760     18916\n",
       "\n",
       "[62 rows x 6 columns]"
      ]
     },
     "execution_count": 31,
     "metadata": {},
     "output_type": "execute_result"
    }
   ],
   "source": [
    "cumulativeData"
   ]
  },
  {
   "cell_type": "markdown",
   "metadata": {},
   "source": [
    "#### График кумулятивного среднего количества заказов на посетителя по группам. Выводы и предположения"
   ]
  },
  {
   "cell_type": "code",
   "execution_count": 32,
   "metadata": {},
   "outputs": [
    {
     "data": {
      "image/png": "[encoded data removed]",
      "text/plain": [
       "<Figure size 1500x700 with 1 Axes>"
      ]
     },
     "metadata": {},
     "output_type": "display_data"
    }
   ],
   "source": [
    "# датафрейм с кумулятивным количеством заказов и кумулятивной выручкой по дням в группе А\n",
    "cumulativeOrdersA = cumulativeData[cumulativeData['group']=='A'][['date','visitors', 'orders']]\n",
    "\n",
    "# датафрейм с кумулятивным количеством заказов и кумулятивной выручкой по дням в группе B\n",
    "cumulativeOrdersB = cumulativeData[cumulativeData['group']=='B'][['date','visitors', 'orders']]\n",
    "\n",
    "# Строим график выручки группы А\n",
    "\n",
    "plt.figure(figsize=(15, 7))\n",
    "plt.plot(cumulativeOrdersA['date'], cumulativeOrdersA['orders']/cumulativeOrdersA['visitors'], label='A')\n",
    "\n",
    "# Строим график выручки группы B\n",
    "plt.plot(cumulativeOrdersB['date'], cumulativeOrdersB['orders']/cumulativeOrdersB['visitors'], label='B')\n",
    "plt.legend() \n",
    "plt.title('График кумулятивного среднего количества заказов на посетителя по группам')\n",
    "plt.xlabel('дата')\n",
    "plt.ylabel('среднее количество заказов на посетителя')\n",
    "plt.show()"
   ]
  },
  {
   "cell_type": "markdown",
   "metadata": {},
   "source": [
    "ПО графику видно, что в начале эксперимета среднее количество заказов на посетителя в группе А больше, затем идет спад, и среднее количество заказов на большем протяжении эксперимента у группы В больше. \n",
    "Можно отметить, что в начале количество заказов на посетителя в группе А и В резко упало, видимо это было связано с тем что это был какой-то день для интернет магазина с большим скачком посетителей и с маленьким кеолиеством заказов, возможно, в этот день, при заказе возникла какая-то техническая ошибка, или была проведена рекламная кампания, которая оказалась провальной и принесла новых посетителей, но не дала увеличение заказов"
   ]
  },
  {
   "cell_type": "markdown",
   "metadata": {},
   "source": [
    "#### График относительного изменения кумулятивного среднего количества заказов на посетителя группы B к группе A. Выводы и предположения"
   ]
  },
  {
   "cell_type": "code",
   "execution_count": 33,
   "metadata": {},
   "outputs": [
    {
     "data": {
      "image/png": "[encoded data removed]",
      "text/plain": [
       "<Figure size 1500x700 with 1 Axes>"
      ]
     },
     "metadata": {},
     "output_type": "display_data"
    }
   ],
   "source": [
    "mergedCumulativeOrders = cumulativeOrdersA.merge(cumulativeOrdersB, left_on='date', right_on='date', how='left', suffixes=['A', 'B'])\n",
    "plt.figure(figsize=(15, 7))\n",
    "plt.plot(mergedCumulativeOrders['date'], (mergedCumulativeOrders['ordersB']/mergedCumulativeOrders['visitorsB'])/(mergedCumulativeOrders['ordersA']/mergedCumulativeOrders['visitorsA'])-1)\n",
    "plt.axhline(y=0, color='black', linestyle='--')\n",
    "plt.axhline(y=0.15, color='grey', linestyle='--')\n",
    "plt.title('График относительного изменения кумулятивного среднего количества заказов на посетителя группы B к группе A')\n",
    "plt.xlabel('дата')\n",
    "plt.ylabel('отношение В/А')\n",
    "plt.show()"
   ]
  },
  {
   "cell_type": "markdown",
   "metadata": {},
   "source": [
    "По графику относительного изменения кумулятивного ср. количества заказов сожно отметить резкий пик превалирования группы В в первый день эксперимента и резкий спад, очевидно, в эти дни отмечалось большее количество посетителей, чем заказов. ВОзможно, были какие-то рекламные кампании, которые привели большому скачку количества посетителей, которые сделали мало заказов или не сделали их вообще.  "
   ]
  },
  {
   "cell_type": "code",
   "execution_count": 34,
   "metadata": {},
   "outputs": [
    {
     "data": {
      "text/html": [
       "<div>\n",
       "<style scoped>\n",
       "    .dataframe tbody tr th:only-of-type {\n",
       "        vertical-align: middle;\n",
       "    }\n",
       "\n",
       "    .dataframe tbody tr th {\n",
       "        vertical-align: top;\n",
       "    }\n",
       "\n",
       "    .dataframe thead th {\n",
       "        text-align: right;\n",
       "    }\n",
       "</style>\n",
       "<table border=\"1\" class=\"dataframe\">\n",
       "  <thead>\n",
       "    <tr style=\"text-align: right;\">\n",
       "      <th></th>\n",
       "      <th>transaction_id</th>\n",
       "      <th>visitor_id</th>\n",
       "      <th>date</th>\n",
       "      <th>revenue</th>\n",
       "      <th>group</th>\n",
       "    </tr>\n",
       "  </thead>\n",
       "  <tbody>\n",
       "    <tr>\n",
       "      <th>0</th>\n",
       "      <td>3667963787</td>\n",
       "      <td>3312258926</td>\n",
       "      <td>2019-08-15</td>\n",
       "      <td>1650</td>\n",
       "      <td>B</td>\n",
       "    </tr>\n",
       "    <tr>\n",
       "      <th>1</th>\n",
       "      <td>2804400009</td>\n",
       "      <td>3642806036</td>\n",
       "      <td>2019-08-15</td>\n",
       "      <td>730</td>\n",
       "      <td>B</td>\n",
       "    </tr>\n",
       "    <tr>\n",
       "      <th>2</th>\n",
       "      <td>2961555356</td>\n",
       "      <td>4069496402</td>\n",
       "      <td>2019-08-15</td>\n",
       "      <td>400</td>\n",
       "      <td>A</td>\n",
       "    </tr>\n",
       "    <tr>\n",
       "      <th>3</th>\n",
       "      <td>3797467345</td>\n",
       "      <td>1196621759</td>\n",
       "      <td>2019-08-15</td>\n",
       "      <td>9759</td>\n",
       "      <td>B</td>\n",
       "    </tr>\n",
       "    <tr>\n",
       "      <th>4</th>\n",
       "      <td>2282983706</td>\n",
       "      <td>2322279887</td>\n",
       "      <td>2019-08-15</td>\n",
       "      <td>2308</td>\n",
       "      <td>B</td>\n",
       "    </tr>\n",
       "  </tbody>\n",
       "</table>\n",
       "</div>"
      ],
      "text/plain": [
       "   transaction_id  visitor_id       date  revenue group\n",
       "0      3667963787  3312258926 2019-08-15     1650     B\n",
       "1      2804400009  3642806036 2019-08-15      730     B\n",
       "2      2961555356  4069496402 2019-08-15      400     A\n",
       "3      3797467345  1196621759 2019-08-15     9759     B\n",
       "4      2282983706  2322279887 2019-08-15     2308     B"
      ]
     },
     "execution_count": 34,
     "metadata": {},
     "output_type": "execute_result"
    }
   ],
   "source": [
    "orders.head()"
   ]
  },
  {
   "cell_type": "markdown",
   "metadata": {},
   "source": [
    "#### Точечный график количества заказов по пользователям.  Выводы и предположения"
   ]
  },
  {
   "cell_type": "code",
   "execution_count": 35,
   "metadata": {},
   "outputs": [
    {
     "data": {
      "image/png": "[encoded data removed]",
      "text/plain": [
       "<Figure size 1500x700 with 1 Axes>"
      ]
     },
     "metadata": {},
     "output_type": "display_data"
    }
   ],
   "source": [
    "ordersByUsers = (\n",
    "    orders.groupby('visitor_id', as_index=False)\n",
    "    .agg({'transaction_id': 'nunique'})\n",
    ")\n",
    "ordersByUsers.columns = ['visitor_id', 'orders']\n",
    "\n",
    "# серия из чисел от 0 до количества наблюдений в ordersByUsers\n",
    "x_values = pd.Series(range(0, len(ordersByUsers)))\n",
    "plt.figure(figsize=(15, 7))\n",
    "plt.scatter(x_values,ordersByUsers['orders']) \n",
    "plt.title('Точечный график количества заказов по пользователям')\n",
    "plt.xlabel('')\n",
    "plt.ylabel('количество заказов')\n",
    "plt.show()"
   ]
  },
  {
   "cell_type": "markdown",
   "metadata": {},
   "source": [
    "По графику видно, что в основном на пользователя приходится 1-3 заказа."
   ]
  },
  {
   "cell_type": "markdown",
   "metadata": {},
   "source": [
    "#### 95-й и 99-й перцентили количества заказов на пользователя.  Выводы и предположения"
   ]
  },
  {
   "cell_type": "code",
   "execution_count": 36,
   "metadata": {},
   "outputs": [
    {
     "name": "stdout",
     "output_type": "stream",
     "text": [
      "[1. 2. 4.]\n"
     ]
    }
   ],
   "source": [
    "print(np.percentile(ordersByUsers['orders'], [90, 95, 99])) "
   ]
  },
  {
   "cell_type": "markdown",
   "metadata": {},
   "source": [
    "99 % значений не более 4, думаю слишком сильно данные не стоит урезать до 95% , поэтому ограничимся верхней границей в 99 %"
   ]
  },
  {
   "cell_type": "markdown",
   "metadata": {},
   "source": [
    "#### Точечный график стоимостей заказов.  Выводы и предположения"
   ]
  },
  {
   "cell_type": "code",
   "execution_count": 37,
   "metadata": {},
   "outputs": [
    {
     "data": {
      "image/png": "[encoded data removed]",
      "text/plain": [
       "<Figure size 1500x700 with 1 Axes>"
      ]
     },
     "metadata": {},
     "output_type": "display_data"
    }
   ],
   "source": [
    "x_values = pd.Series(range(0, len(orders['revenue'])))\n",
    "plt.figure(figsize=(15, 7))\n",
    "plt.scatter(x_values, orders['revenue']) \n",
    "plt.title('Точечный график стоимостей заказов')\n",
    "plt.xlabel('')\n",
    "plt.ylabel('стоимость заказа')\n",
    "plt.axis([0, 1200, 0, 200000])\n",
    "plt.show()"
   ]
  },
  {
   "cell_type": "markdown",
   "metadata": {},
   "source": [
    "Как и на боксплоте выделяются 2 точки стоимости заказов, выбивающиеся из общей массы, стоимот. 200000 и более 1,2 млн. По граыику видно, что в основном стоимость заказов до 100 тыс."
   ]
  },
  {
   "cell_type": "markdown",
   "metadata": {},
   "source": [
    "#### 95-й и 99-й перцентили стоимости заказов.  Выводы и предположения"
   ]
  },
  {
   "cell_type": "code",
   "execution_count": 38,
   "metadata": {},
   "outputs": [
    {
     "name": "stdout",
     "output_type": "stream",
     "text": [
      "[18168.  28000.  58233.2]\n"
     ]
    }
   ],
   "source": [
    "print(np.percentile(orders['revenue'], [90, 95, 99])) "
   ]
  },
  {
   "cell_type": "markdown",
   "metadata": {},
   "source": [
    "99 % значений не более 58 тыс, большинство заказов не доходит входит в этот массив, все дороже 58 тыс можно отбросить"
   ]
  },
  {
   "cell_type": "markdown",
   "metadata": {},
   "source": [
    "#### Cтатистическая значимость различий в среднем количестве заказов на посетителя между группами по «сырым» данным.  Выводы и предположения "
   ]
  },
  {
   "cell_type": "markdown",
   "metadata": {},
   "source": [
    "H₀: среднее количество заказов группы В =   среднее количество заказов группы А    \n",
    "Статистически значимых различий в среднем количестве заказов между группами по сырым данным нет.  \n",
    "H₁: ссреднее количество заказов группы В != среднее количество заказов группы А    \n",
    "Статистически значимые различия в среднем количестве заказов между группами по сырым данным есть.  \n",
    "alpha = 0.05"
   ]
  },
  {
   "cell_type": "markdown",
   "metadata": {},
   "source": [
    "<div class=\"alert alert-info\">\n",
    "Рассчитываем статистическую значимость различий между группами в количестве заказов на посетителя и ср. чеке  с помощью непараметрического теста Уилкоксона-Манна-Уитни. Потому что не можем быть уверенны в нормальности распределения и нам нужен структурный подход в проверке\n",
    "</div>\n"
   ]
  },
  {
   "cell_type": "code",
   "execution_count": 39,
   "metadata": {},
   "outputs": [
    {
     "name": "stdout",
     "output_type": "stream",
     "text": [
      "p-value =0.017 \n",
      "Относительное различие в среднем количестве заказов на посетителя между группами В и А 0.138\n",
      "Отвергаем нулевую гипотезу\n"
     ]
    }
   ],
   "source": [
    "visitorsADaily = visitors[visitors['group']=='A'][['date', 'visitors']]\n",
    "visitorsADaily.columns = ['date', 'visitorsPerDateA']\n",
    "\n",
    "visitorsACummulative = visitorsADaily.apply(lambda x: visitorsADaily[visitorsADaily['date'] <= x['date']]. \\\n",
    "                                            agg({'date' : 'max', 'visitorsPerDateA' : 'sum'}), axis=1)\n",
    "visitorsACummulative.columns = ['date', 'visitorsCummulativeA']\n",
    "\n",
    "visitorsBDaily = visitors[visitors['group']=='B'][['date', 'visitors']]\n",
    "visitorsBDaily.columns = ['date', 'visitorsPerDateB']\n",
    "\n",
    "visitorsBCummulative = visitorsBDaily.apply(lambda x: visitorsBDaily[visitorsBDaily['date'] <= x['date']]. \\\n",
    "                                            agg({'date' : 'max', 'visitorsPerDateB' : 'sum'}), axis=1)\n",
    "visitorsBCummulative.columns = ['date', 'visitorsCummulativeB']\n",
    "\n",
    "\n",
    "ordersADaily = orders[orders['group']=='A'][['date', 'transaction_id', 'visitor_id', 'revenue']]\\\n",
    "    .groupby('date', as_index=False)\\\n",
    "    .agg({'transaction_id' : pd.Series.nunique, 'revenue' : 'sum'})\n",
    "ordersADaily.columns = ['date', 'ordersPerDateA', 'revenuePerDateA']\n",
    "\n",
    "ordersACummulative = ordersADaily.apply(\n",
    "    lambda x: \\\n",
    "        ordersADaily[ordersADaily['date'] <= x['date']]\\\n",
    "            .agg({\n",
    "                'date' : 'max',\n",
    "                'ordersPerDateA' : 'sum',\n",
    "                'revenuePerDateA' : 'sum'}), axis=1).sort_values(by=['date'])\n",
    "ordersACummulative.columns = ['date', 'ordersCummulativeA', 'revenueCummulativeA']\n",
    "\n",
    "ordersBDaily = orders[orders['group']=='B'][['date', 'transaction_id', 'visitor_id', 'revenue']]\\\n",
    "    .groupby('date', as_index=False)\\\n",
    "    .agg({'transaction_id' : pd.Series.nunique, 'revenue' : 'sum'})\n",
    "ordersBDaily.columns = ['date', 'ordersPerDateB', 'revenuePerDateB']\n",
    "\n",
    "ordersBCummulative = ordersBDaily.apply(\n",
    "    lambda x: \\\n",
    "        ordersBDaily[ordersBDaily['date'] <= x['date']]\\\n",
    "            .agg({\n",
    "                'date' : 'max',\n",
    "                'ordersPerDateB' : 'sum',\n",
    "                'revenuePerDateB' : 'sum'}), axis=1).sort_values(by=['date'])\n",
    "ordersBCummulative.columns = ['date', 'ordersCummulativeB', 'revenueCummulativeB']\n",
    "data = ordersADaily.merge(ordersBDaily, left_on='date', right_on='date', how='left')\\\n",
    "    .merge(ordersACummulative, left_on='date', right_on='date', how='left')\\\n",
    "    .merge(ordersBCummulative, left_on='date', right_on='date', how='left')\\\n",
    "    .merge(visitorsADaily, left_on='date', right_on='date', how='left')\\\n",
    "    .merge(visitorsBDaily, left_on='date', right_on='date', how='left')\\\n",
    "    .merge(visitorsACummulative, left_on='date', right_on='date', how='left')\\\n",
    "    .merge(visitorsBCummulative, left_on='date', right_on='date', how='left')\n",
    "data.sample(3)\n",
    "ordersByUsersA = orders[orders['group']=='A'].groupby('visitor_id', as_index=False).agg({'transaction_id' : pd.Series.nunique})\n",
    "ordersByUsersA.columns = ['user_id', 'orders']\n",
    "\n",
    "ordersByUsersB = orders[orders['group']=='B'].groupby('visitor_id', as_index=False).agg({'transaction_id' : pd.Series.nunique})\n",
    "ordersByUsersB.columns = ['user_id', 'orders']\n",
    "\n",
    "sampleA = pd.concat([ordersByUsersA['orders'],pd.Series(0, index=np.arange(data['visitorsPerDateA'].sum() - len(ordersByUsersA['orders'])), name='orders')],axis=0)\n",
    "\n",
    "sampleB = pd.concat([ordersByUsersB['orders'],pd.Series(0, index=np.arange(data['visitorsPerDateB'].sum() - len(ordersByUsersB['orders'])), name='orders')],axis=0)\n",
    "alpha = 0.05 \n",
    "print (f'p-value ={round(stats.mannwhitneyu(sampleA, sampleB)[1], 3)} ')\n",
    "print(f'Относительное различие в среднем количестве заказов на посетителя между группами В и А {round(sampleB.mean()/sampleA.mean()-1,3)}')\n",
    "\n",
    "if round(stats.mannwhitneyu(sampleA, sampleB)[1], 3) < alpha:\n",
    "    print('Отвергаем нулевую гипотезу')\n",
    "else:\n",
    "    print('Не получилось отвергнуть нулевую гипотезу')     "
   ]
  },
  {
   "cell_type": "markdown",
   "metadata": {},
   "source": [
    "Вывод: Поскольку pvalue не больше уровня значимости α = 0,05, мы можем отвергнуть нулевую гипотезу.\n",
    "Вероятность мала, получить одинаковое среднее количество заказов на посетителя между группами В и А.  \n",
    "По сырым данным можно сказать, что ср. количество заказов на посетителя возрасло на 13, 8% , между группами есть сатистически значимое различие. "
   ]
  },
  {
   "cell_type": "markdown",
   "metadata": {},
   "source": [
    "#### Cтатистическая значимость различий в среднем чеке заказа между группами по «сырым» данным.  Выводы и предположения"
   ]
  },
  {
   "cell_type": "markdown",
   "metadata": {},
   "source": [
    "H₀: средний чек заказа группы В =   средний чек заказа группы А  \n",
    "Статистически значимых различий в среднем чеке заказа между группами по сырым данным нет.  \n",
    "H₁: средний чек заказа группы В != средний чек заказа группы А  \n",
    "Статистически значимые различия в среднем чеке заказа между группами по сырым данным есть.  \n",
    "alpha = 0.05"
   ]
  },
  {
   "cell_type": "code",
   "execution_count": 40,
   "metadata": {},
   "outputs": [
    {
     "name": "stdout",
     "output_type": "stream",
     "text": [
      "p-value =0.729 \n",
      "Относительный прирост среднего чека группы B 0.259\n",
      "Не получилось отвергнуть нулевую гипотезу\n"
     ]
    }
   ],
   "source": [
    "pvalue_avg_check=stats.mannwhitneyu(orders[orders['group']=='A']['revenue'], orders[orders['group']=='B']['revenue'])[1]\n",
    "diff_AB_check = orders[orders['group']=='B']['revenue'].mean()/orders[orders['group']=='A']['revenue'].mean()-1\n",
    "print (f'p-value ={round(pvalue_avg_check, 3)} ')\n",
    "print(f'Относительный прирост среднего чека группы B {round(diff_AB_check,3)}')\n",
    "\n",
    "if round(pvalue_avg_check, 3) < alpha:\n",
    "    print('Отвергаем нулевую гипотезу')\n",
    "else:\n",
    "    print('Не получилось отвергнуть нулевую гипотезу')     "
   ]
  },
  {
   "cell_type": "markdown",
   "metadata": {},
   "source": [
    "Вывод: Поскольку pvalue больше уровня значимости α = 0,05, мы не можем отвергнуть нулевую гипотезу. Высока вероятность одинаковые средние чеки .\n",
    "По сырым данным можно сказать, что ср. чек вырос на 25,9% , думаю такое значение видим из-за того что, есть аномальные заказы с очень высокой ценой "
   ]
  },
  {
   "cell_type": "markdown",
   "metadata": {},
   "source": [
    "#### Cтатистическая значимость различий в среднем количестве заказов на посетителя между группами по «очищенным» данным.  Выводы и предположения"
   ]
  },
  {
   "cell_type": "markdown",
   "metadata": {},
   "source": [
    "H₀: среднее количество заказов группы В =   среднее количество заказов группы А  \n",
    "Статистически значимых различий в среднем количестве заказов между группами по очищенным данным  нет.\n",
    "H₁: ссреднее количество заказов группы В != среднее количество заказов группы А  \n",
    "Статистически значимые различия в среднем количестве заказов между группами по очищенным данным есть.\n",
    "alpha = 0.05"
   ]
  },
  {
   "cell_type": "code",
   "execution_count": 41,
   "metadata": {},
   "outputs": [
    {
     "name": "stdout",
     "output_type": "stream",
     "text": [
      "p-value по очищенным данным =0.014 \n",
      "Относительное различие в среднем количестве заказов на посетителя между группами В и А по очищенным данным 0.153\n",
      "Отвергаем нулевую гипотезу\n"
     ]
    }
   ],
   "source": [
    "quantile_orders_99=ordersByUsers['orders']. quantile ( .99 )\n",
    "quantile_revenue_99=orders['revenue']. quantile ( .99 )\n",
    "\n",
    "usersWithManyOrders = pd.concat(\n",
    "    [\n",
    "        ordersByUsersA[ordersByUsersA['orders'] > quantile_orders_99]['user_id'],\n",
    "        ordersByUsersB[ordersByUsersB['orders'] > quantile_orders_99]['user_id'],\n",
    "    ],\n",
    "    axis=0,\n",
    ")\n",
    "usersWithExpensiveOrders = orders[orders['revenue'] > quantile_revenue_99]['visitor_id']\n",
    "abnormalUsers = (\n",
    "    pd.concat([usersWithManyOrders, usersWithExpensiveOrders], axis=0)\n",
    "    .drop_duplicates()\n",
    "    .sort_values()\n",
    ")\n",
    "sampleAFiltered = pd.concat(\n",
    "    [\n",
    "        ordersByUsersA[\n",
    "            np.logical_not(ordersByUsersA['user_id'].isin(abnormalUsers))\n",
    "        ]['orders'],\n",
    "        pd.Series(\n",
    "            0,\n",
    "            index=np.arange(\n",
    "                data['visitorsPerDateA'].sum() - len(ordersByUsersA['orders'])\n",
    "            ),\n",
    "            name='orders',\n",
    "        ),\n",
    "    ],\n",
    "    axis=0,\n",
    ")\n",
    "\n",
    "sampleBFiltered = pd.concat(\n",
    "    [\n",
    "        ordersByUsersB[\n",
    "            np.logical_not(ordersByUsersB['user_id'].isin(abnormalUsers))\n",
    "        ]['orders'],\n",
    "        pd.Series(\n",
    "            0,\n",
    "            index=np.arange(\n",
    "                data['visitorsPerDateB'].sum() - len(ordersByUsersB['orders'])\n",
    "            ),\n",
    "            name='orders',\n",
    "        ),\n",
    "    ],\n",
    "    axis=0,\n",
    ")\n",
    "\n",
    "pvalue_orders=stats.mannwhitneyu(sampleAFiltered, sampleBFiltered)[1]\n",
    "diff_AB_orders = sampleBFiltered.mean()/sampleAFiltered.mean()-1\n",
    "print (f'p-value по очищенным данным ={round(pvalue_orders, 3)} ')\n",
    "print(f'Относительное различие в среднем количестве заказов на посетителя между группами В и А по очищенным данным {round(diff_AB_orders,3)}')\n",
    "\n",
    "if round(pvalue_orders, 3) < alpha:\n",
    "    print('Отвергаем нулевую гипотезу')\n",
    "else:\n",
    "    print('Не получилось отвергнуть нулевую гипотезу')     \n",
    "    "
   ]
  },
  {
   "cell_type": "code",
   "execution_count": 42,
   "metadata": {},
   "outputs": [
    {
     "data": {
      "text/plain": [
       "0       1\n",
       "1       1\n",
       "2       2\n",
       "3       1\n",
       "4       1\n",
       "       ..\n",
       "1026    2\n",
       "1027    1\n",
       "1028    1\n",
       "1029    1\n",
       "1030    1\n",
       "Name: orders, Length: 1031, dtype: int64"
      ]
     },
     "execution_count": 42,
     "metadata": {},
     "output_type": "execute_result"
    }
   ],
   "source": [
    "ordersByUsers['orders']"
   ]
  },
  {
   "cell_type": "markdown",
   "metadata": {},
   "source": [
    "Вывод: Поскольку pvalue не больше уровня значимости α = 0,05, мы можем отвергнуть нулевую гипотезу. Вероятность мала, получить одинаковое среднее количество заказов на посетителя между группами В и А.\n",
    "По очищенным данным можно сказать, что ср. количество заказов на посетителя возрасло на 15, 3% , между группами есть сатистически значимое различие."
   ]
  },
  {
   "cell_type": "markdown",
   "metadata": {},
   "source": [
    "#### Cтатистическая значимость различий в среднем чеке заказа между группами по «очищенным» данным. Выводы и предположения"
   ]
  },
  {
   "cell_type": "markdown",
   "metadata": {},
   "source": [
    "H₀: средний чек заказа группы В =   средний чек заказа группы А  \n",
    "Статистически значимых различий в среднем чеке заказа между группами по очищенным данным нет.  \n",
    "H₁: средний чек заказа группы В != средний чек заказа группы А  \n",
    "Статистически значимые различия в среднем чеке заказа между группами по очищеным данным есть.  \n",
    "alpha = 0.05"
   ]
  },
  {
   "cell_type": "code",
   "execution_count": 43,
   "metadata": {},
   "outputs": [
    {
     "name": "stdout",
     "output_type": "stream",
     "text": [
      "p-value =0.851 \n",
      "Относительный прирост среднего чека группы B -0.006\n",
      "Не получилось отвергнуть нулевую гипотезу\n"
     ]
    }
   ],
   "source": [
    "pvalue_avg_check_2 = stats.mannwhitneyu (orders[np.logical_and(orders['group'] == 'A', \\\n",
    "np.logical_not(orders['visitor_id']. \\\n",
    "isin(abnormalUsers)),)]['revenue'], \\\n",
    "orders[np.logical_and(orders['group'] == 'B', \\\n",
    "np.logical_not(orders['visitor_id'].isin(abnormalUsers)),)]['revenue'],)[1]\n",
    "diff_AB_check_2 = orders[ np.logical_and(orders['group'] == 'B',np.logical_not(orders['visitor_id'].isin(abnormalUsers)),)]['revenue'].mean()/ orders[np.logical_and(orders['group'] == 'A',np.logical_not(orders['visitor_id'].isin(abnormalUsers)),)]['revenue'].mean()- 1\n",
    "print (f'p-value ={round(pvalue_avg_check_2, 3)} ')\n",
    "print(f'Относительный прирост среднего чека группы B {round(diff_AB_check_2,3)}')\n",
    "\n",
    "if round(pvalue_avg_check_2, 3) < alpha:\n",
    "    print('Отвергаем нулевую гипотезу')\n",
    "else:\n",
    "    print('Не получилось отвергнуть нулевую гипотезу')             "
   ]
  },
  {
   "cell_type": "markdown",
   "metadata": {},
   "source": [
    "Поскольку pvalue больше уровня значимости α = 0,05, мы не можем отвергнуть нулевую гипотезу. Высока вероятность одинаковые средние чеки .\n",
    "По очищенным данным прироста чека нет.\n"
   ]
  },
  {
   "cell_type": "markdown",
   "metadata": {},
   "source": [
    "### Решение по результатам теста"
   ]
  },
  {
   "cell_type": "markdown",
   "metadata": {},
   "source": [
    "Решение : Остановить тест, зафиксировать преимущество в количестве заказов на посетителя в группе В.  \n",
    "1. В результате проверки гепотезы, обнаруживаем, что  есть статистическое различие в среднем количестве заказов на посетителя между группами по очищенным и по сырым данным. Ср. количество заказов на посетителя возрасло.\n",
    "2. В результате проверки гепотезы, обнаруживаем, что по сырым данным нет статистически значимого различия в  среднем чеке заказа групп В и А, после того, как отбросили аномальные значения , различия статистически значимого не появилось, зато средний чек показал отсутствие роста по очищенным данным.   \n"
   ]
  }
 ],
 "metadata": {
  "ExecuteTimeLog": [
   {
    "duration": 954,
    "start_time": "2023-05-17T09:03:20.238Z"
   },
   {
    "duration": 513,
    "start_time": "2023-05-17T09:04:45.915Z"
   },
   {
    "duration": 228,
    "start_time": "2023-05-17T09:07:55.995Z"
   },
   {
    "duration": 12,
    "start_time": "2023-05-17T09:08:51.017Z"
   },
   {
    "duration": 17,
    "start_time": "2023-05-17T09:10:10.280Z"
   },
   {
    "duration": 22,
    "start_time": "2023-05-17T09:10:27.962Z"
   },
   {
    "duration": 19,
    "start_time": "2023-05-17T09:10:36.177Z"
   },
   {
    "duration": 23,
    "start_time": "2023-05-17T09:11:53.647Z"
   },
   {
    "duration": 18,
    "start_time": "2023-05-17T09:11:54.566Z"
   },
   {
    "duration": 8,
    "start_time": "2023-05-17T09:11:55.832Z"
   },
   {
    "duration": 14,
    "start_time": "2023-05-17T09:12:15.509Z"
   },
   {
    "duration": 11,
    "start_time": "2023-05-17T09:13:11.983Z"
   },
   {
    "duration": 17,
    "start_time": "2023-05-17T09:13:23.580Z"
   },
   {
    "duration": 555,
    "start_time": "2023-05-17T09:19:11.939Z"
   },
   {
    "duration": 10,
    "start_time": "2023-05-17T09:19:12.711Z"
   },
   {
    "duration": 47,
    "start_time": "2023-05-17T09:20:10.901Z"
   },
   {
    "duration": 91,
    "start_time": "2023-05-17T09:20:19.942Z"
   },
   {
    "duration": 8,
    "start_time": "2023-05-17T09:20:20.630Z"
   },
   {
    "duration": 8,
    "start_time": "2023-05-17T09:20:21.177Z"
   },
   {
    "duration": 7,
    "start_time": "2023-05-17T09:20:21.438Z"
   },
   {
    "duration": 4,
    "start_time": "2023-05-17T09:40:16.092Z"
   },
   {
    "duration": 11,
    "start_time": "2023-05-17T09:40:25.474Z"
   },
   {
    "duration": 13,
    "start_time": "2023-05-17T09:40:34.411Z"
   },
   {
    "duration": 7,
    "start_time": "2023-05-17T09:41:51.931Z"
   },
   {
    "duration": 8,
    "start_time": "2023-05-17T09:41:55.036Z"
   },
   {
    "duration": 6,
    "start_time": "2023-05-17T09:42:16.709Z"
   },
   {
    "duration": 5,
    "start_time": "2023-05-17T09:42:53.735Z"
   },
   {
    "duration": 7,
    "start_time": "2023-05-17T09:43:29.084Z"
   },
   {
    "duration": 5,
    "start_time": "2023-05-17T09:43:52.407Z"
   },
   {
    "duration": 7,
    "start_time": "2023-05-17T09:49:56.528Z"
   },
   {
    "duration": 7,
    "start_time": "2023-05-17T09:53:36.496Z"
   },
   {
    "duration": 24,
    "start_time": "2023-05-17T09:54:58.082Z"
   },
   {
    "duration": 166,
    "start_time": "2023-05-17T09:55:24.443Z"
   },
   {
    "duration": 104,
    "start_time": "2023-05-17T09:56:25.954Z"
   },
   {
    "duration": 167,
    "start_time": "2023-05-17T09:56:37.746Z"
   },
   {
    "duration": 108,
    "start_time": "2023-05-17T10:02:52.927Z"
   },
   {
    "duration": 270,
    "start_time": "2023-05-17T10:03:19.135Z"
   },
   {
    "duration": 4,
    "start_time": "2023-05-17T10:04:05.679Z"
   },
   {
    "duration": 4,
    "start_time": "2023-05-17T10:04:17.535Z"
   },
   {
    "duration": 8,
    "start_time": "2023-05-17T10:04:56.885Z"
   },
   {
    "duration": 12,
    "start_time": "2023-05-17T10:05:37.943Z"
   },
   {
    "duration": 9,
    "start_time": "2023-05-17T10:06:01.103Z"
   },
   {
    "duration": 8,
    "start_time": "2023-05-17T10:06:08.943Z"
   },
   {
    "duration": 9,
    "start_time": "2023-05-17T10:07:18.062Z"
   },
   {
    "duration": 100,
    "start_time": "2023-05-17T10:07:40.293Z"
   },
   {
    "duration": 110,
    "start_time": "2023-05-17T10:16:03.895Z"
   },
   {
    "duration": 106,
    "start_time": "2023-05-17T10:16:15.725Z"
   },
   {
    "duration": 136,
    "start_time": "2023-05-17T10:16:34.230Z"
   },
   {
    "duration": 111,
    "start_time": "2023-05-17T10:17:10.796Z"
   },
   {
    "duration": 188,
    "start_time": "2023-05-17T10:22:13.692Z"
   },
   {
    "duration": 106,
    "start_time": "2023-05-17T10:22:43.715Z"
   },
   {
    "duration": 9,
    "start_time": "2023-05-17T10:23:09.444Z"
   },
   {
    "duration": 128,
    "start_time": "2023-05-17T10:23:27.675Z"
   },
   {
    "duration": 112,
    "start_time": "2023-05-17T10:23:42.901Z"
   },
   {
    "duration": 116,
    "start_time": "2023-05-17T10:23:53.096Z"
   },
   {
    "duration": 57,
    "start_time": "2023-05-17T10:25:23.263Z"
   },
   {
    "duration": 14,
    "start_time": "2023-05-17T10:48:05.528Z"
   },
   {
    "duration": 7,
    "start_time": "2023-05-17T10:48:13.415Z"
   },
   {
    "duration": 9,
    "start_time": "2023-05-17T10:49:53.689Z"
   },
   {
    "duration": 74,
    "start_time": "2023-05-17T15:35:07.336Z"
   },
   {
    "duration": 11,
    "start_time": "2023-05-17T15:35:16.375Z"
   },
   {
    "duration": 1530,
    "start_time": "2023-05-17T15:35:24.597Z"
   },
   {
    "duration": 291,
    "start_time": "2023-05-17T15:35:26.130Z"
   },
   {
    "duration": 15,
    "start_time": "2023-05-17T15:35:26.423Z"
   },
   {
    "duration": 40,
    "start_time": "2023-05-17T15:35:26.440Z"
   },
   {
    "duration": 17,
    "start_time": "2023-05-17T15:35:26.484Z"
   },
   {
    "duration": 24,
    "start_time": "2023-05-17T15:35:26.504Z"
   },
   {
    "duration": 27,
    "start_time": "2023-05-17T15:35:26.531Z"
   },
   {
    "duration": 41,
    "start_time": "2023-05-17T15:35:26.559Z"
   },
   {
    "duration": 12,
    "start_time": "2023-05-17T15:35:26.602Z"
   },
   {
    "duration": 17,
    "start_time": "2023-05-17T15:35:26.616Z"
   },
   {
    "duration": 9,
    "start_time": "2023-05-17T15:35:26.635Z"
   },
   {
    "duration": 36,
    "start_time": "2023-05-17T15:35:26.651Z"
   },
   {
    "duration": 18,
    "start_time": "2023-05-17T15:35:26.689Z"
   },
   {
    "duration": 12,
    "start_time": "2023-05-17T15:35:26.712Z"
   },
   {
    "duration": 21,
    "start_time": "2023-05-17T15:35:26.726Z"
   },
   {
    "duration": 56,
    "start_time": "2023-05-17T15:35:26.751Z"
   },
   {
    "duration": 30,
    "start_time": "2023-05-17T15:35:26.809Z"
   },
   {
    "duration": 261,
    "start_time": "2023-05-17T15:35:26.841Z"
   },
   {
    "duration": 9,
    "start_time": "2023-05-17T15:35:27.105Z"
   },
   {
    "duration": 182,
    "start_time": "2023-05-17T15:35:27.116Z"
   },
   {
    "duration": 11,
    "start_time": "2023-05-17T15:35:27.300Z"
   },
   {
    "duration": 18,
    "start_time": "2023-05-17T15:35:27.313Z"
   },
   {
    "duration": 58,
    "start_time": "2023-05-17T15:35:27.333Z"
   },
   {
    "duration": 824,
    "start_time": "2023-05-17T16:02:08.703Z"
   },
   {
    "duration": 3,
    "start_time": "2023-05-17T16:03:07.039Z"
   },
   {
    "duration": 109,
    "start_time": "2023-05-17T16:03:07.787Z"
   },
   {
    "duration": 16,
    "start_time": "2023-05-17T16:03:08.371Z"
   },
   {
    "duration": 10,
    "start_time": "2023-05-17T16:03:08.810Z"
   },
   {
    "duration": 8,
    "start_time": "2023-05-17T16:03:09.218Z"
   },
   {
    "duration": 15,
    "start_time": "2023-05-17T16:03:09.618Z"
   },
   {
    "duration": 27,
    "start_time": "2023-05-17T16:03:09.946Z"
   },
   {
    "duration": 19,
    "start_time": "2023-05-17T16:03:10.176Z"
   },
   {
    "duration": 5,
    "start_time": "2023-05-17T16:03:10.588Z"
   },
   {
    "duration": 13,
    "start_time": "2023-05-17T16:03:10.738Z"
   },
   {
    "duration": 6,
    "start_time": "2023-05-17T16:03:10.937Z"
   },
   {
    "duration": 23,
    "start_time": "2023-05-17T16:03:11.146Z"
   },
   {
    "duration": 6,
    "start_time": "2023-05-17T16:03:11.337Z"
   },
   {
    "duration": 7,
    "start_time": "2023-05-17T16:03:11.538Z"
   },
   {
    "duration": 6,
    "start_time": "2023-05-17T16:03:11.722Z"
   },
   {
    "duration": 12,
    "start_time": "2023-05-17T16:03:13.007Z"
   },
   {
    "duration": 184,
    "start_time": "2023-05-17T16:03:13.243Z"
   },
   {
    "duration": 8,
    "start_time": "2023-05-17T16:03:14.787Z"
   },
   {
    "duration": 192,
    "start_time": "2023-05-17T16:03:15.002Z"
   },
   {
    "duration": 16,
    "start_time": "2023-05-17T16:03:16.786Z"
   },
   {
    "duration": 10,
    "start_time": "2023-05-17T16:03:17.187Z"
   },
   {
    "duration": 14,
    "start_time": "2023-05-17T16:03:19.401Z"
   },
   {
    "duration": 870,
    "start_time": "2023-05-17T16:03:24.227Z"
   },
   {
    "duration": 17,
    "start_time": "2023-05-17T16:06:02.110Z"
   },
   {
    "duration": 25,
    "start_time": "2023-05-17T16:06:03.091Z"
   },
   {
    "duration": 191,
    "start_time": "2023-05-17T16:06:04.121Z"
   },
   {
    "duration": 800,
    "start_time": "2023-05-17T16:06:08.417Z"
   },
   {
    "duration": 1274,
    "start_time": "2023-05-17T16:07:04.633Z"
   },
   {
    "duration": 626,
    "start_time": "2023-05-17T16:07:48.098Z"
   },
   {
    "duration": 1150,
    "start_time": "2023-05-17T16:13:01.248Z"
   },
   {
    "duration": 657,
    "start_time": "2023-05-17T16:13:30.479Z"
   },
   {
    "duration": 1305,
    "start_time": "2023-05-17T16:13:37.637Z"
   },
   {
    "duration": 156,
    "start_time": "2023-05-17T16:13:38.945Z"
   },
   {
    "duration": 16,
    "start_time": "2023-05-17T16:13:39.104Z"
   },
   {
    "duration": 17,
    "start_time": "2023-05-17T16:13:39.123Z"
   },
   {
    "duration": 45,
    "start_time": "2023-05-17T16:13:39.145Z"
   },
   {
    "duration": 20,
    "start_time": "2023-05-17T16:13:39.192Z"
   },
   {
    "duration": 39,
    "start_time": "2023-05-17T16:13:39.215Z"
   },
   {
    "duration": 56,
    "start_time": "2023-05-17T16:13:39.257Z"
   },
   {
    "duration": 18,
    "start_time": "2023-05-17T16:13:39.316Z"
   },
   {
    "duration": 47,
    "start_time": "2023-05-17T16:13:39.341Z"
   },
   {
    "duration": 15,
    "start_time": "2023-05-17T16:13:39.391Z"
   },
   {
    "duration": 22,
    "start_time": "2023-05-17T16:13:39.408Z"
   },
   {
    "duration": 49,
    "start_time": "2023-05-17T16:13:39.433Z"
   },
   {
    "duration": 26,
    "start_time": "2023-05-17T16:13:39.485Z"
   },
   {
    "duration": 18,
    "start_time": "2023-05-17T16:13:39.513Z"
   },
   {
    "duration": 19,
    "start_time": "2023-05-17T16:13:39.533Z"
   },
   {
    "duration": 35,
    "start_time": "2023-05-17T16:13:39.558Z"
   },
   {
    "duration": 213,
    "start_time": "2023-05-17T16:13:39.595Z"
   },
   {
    "duration": 18,
    "start_time": "2023-05-17T16:13:39.810Z"
   },
   {
    "duration": 207,
    "start_time": "2023-05-17T16:13:39.830Z"
   },
   {
    "duration": 15,
    "start_time": "2023-05-17T16:13:40.046Z"
   },
   {
    "duration": 51,
    "start_time": "2023-05-17T16:13:40.063Z"
   },
   {
    "duration": 25,
    "start_time": "2023-05-17T16:13:40.119Z"
   },
   {
    "duration": 686,
    "start_time": "2023-05-17T16:13:40.147Z"
   },
   {
    "duration": 540,
    "start_time": "2023-05-17T16:16:48.079Z"
   },
   {
    "duration": 1480,
    "start_time": "2023-05-17T16:16:59.190Z"
   },
   {
    "duration": 163,
    "start_time": "2023-05-17T16:17:00.676Z"
   },
   {
    "duration": 34,
    "start_time": "2023-05-17T16:17:00.842Z"
   },
   {
    "duration": 44,
    "start_time": "2023-05-17T16:17:00.887Z"
   },
   {
    "duration": 87,
    "start_time": "2023-05-17T16:17:00.934Z"
   },
   {
    "duration": 74,
    "start_time": "2023-05-17T16:17:01.023Z"
   },
   {
    "duration": 121,
    "start_time": "2023-05-17T16:17:01.100Z"
   },
   {
    "duration": 84,
    "start_time": "2023-05-17T16:17:01.224Z"
   },
   {
    "duration": 79,
    "start_time": "2023-05-17T16:17:01.312Z"
   },
   {
    "duration": 156,
    "start_time": "2023-05-17T16:17:01.394Z"
   },
   {
    "duration": 150,
    "start_time": "2023-05-17T16:17:01.557Z"
   },
   {
    "duration": 97,
    "start_time": "2023-05-17T16:17:01.710Z"
   },
   {
    "duration": 142,
    "start_time": "2023-05-17T16:17:01.812Z"
   },
   {
    "duration": 105,
    "start_time": "2023-05-17T16:17:01.961Z"
   },
   {
    "duration": 154,
    "start_time": "2023-05-17T16:17:02.072Z"
   },
   {
    "duration": 135,
    "start_time": "2023-05-17T16:17:02.228Z"
   },
   {
    "duration": 269,
    "start_time": "2023-05-17T16:17:02.366Z"
   },
   {
    "duration": 23,
    "start_time": "2023-05-17T16:17:02.638Z"
   },
   {
    "duration": 303,
    "start_time": "2023-05-17T16:17:02.666Z"
   },
   {
    "duration": 32,
    "start_time": "2023-05-17T16:17:02.979Z"
   },
   {
    "duration": 119,
    "start_time": "2023-05-17T16:17:03.013Z"
   },
   {
    "duration": 146,
    "start_time": "2023-05-17T16:17:03.134Z"
   },
   {
    "duration": 1098,
    "start_time": "2023-05-17T16:17:03.287Z"
   },
   {
    "duration": 721,
    "start_time": "2023-05-17T16:20:08.493Z"
   },
   {
    "duration": 567,
    "start_time": "2023-05-17T16:20:21.305Z"
   },
   {
    "duration": 525,
    "start_time": "2023-05-17T16:22:46.304Z"
   },
   {
    "duration": 13,
    "start_time": "2023-05-17T16:23:32.854Z"
   },
   {
    "duration": 13,
    "start_time": "2023-05-17T16:23:37.883Z"
   },
   {
    "duration": 15,
    "start_time": "2023-05-17T16:23:40.230Z"
   },
   {
    "duration": 399,
    "start_time": "2023-05-17T16:24:05.633Z"
   },
   {
    "duration": 377,
    "start_time": "2023-05-17T16:28:40.682Z"
   },
   {
    "duration": 351,
    "start_time": "2023-05-17T16:29:55.379Z"
   },
   {
    "duration": 151,
    "start_time": "2023-05-17T16:37:38.203Z"
   },
   {
    "duration": 84,
    "start_time": "2023-05-17T16:38:12.293Z"
   },
   {
    "duration": 11,
    "start_time": "2023-05-17T16:38:23.407Z"
   },
   {
    "duration": 76,
    "start_time": "2023-05-17T16:38:25.490Z"
   },
   {
    "duration": 11,
    "start_time": "2023-05-17T16:39:44.191Z"
   },
   {
    "duration": 11,
    "start_time": "2023-05-17T16:39:45.610Z"
   },
   {
    "duration": 948,
    "start_time": "2023-05-17T16:40:05.265Z"
   },
   {
    "duration": 431,
    "start_time": "2023-05-17T16:41:17.796Z"
   },
   {
    "duration": 754,
    "start_time": "2023-05-17T16:41:44.387Z"
   },
   {
    "duration": 12,
    "start_time": "2023-05-17T16:42:28.879Z"
   },
   {
    "duration": 29,
    "start_time": "2023-05-17T16:42:29.538Z"
   },
   {
    "duration": 153,
    "start_time": "2023-05-17T16:42:29.756Z"
   },
   {
    "duration": 9,
    "start_time": "2023-05-17T16:42:30.233Z"
   },
   {
    "duration": 168,
    "start_time": "2023-05-17T16:42:30.417Z"
   },
   {
    "duration": 10,
    "start_time": "2023-05-17T16:42:30.993Z"
   },
   {
    "duration": 10,
    "start_time": "2023-05-17T16:42:31.393Z"
   },
   {
    "duration": 19,
    "start_time": "2023-05-17T16:42:32.583Z"
   },
   {
    "duration": 17,
    "start_time": "2023-05-17T16:42:33.580Z"
   },
   {
    "duration": 10,
    "start_time": "2023-05-17T16:42:33.810Z"
   },
   {
    "duration": 693,
    "start_time": "2023-05-17T16:42:36.187Z"
   },
   {
    "duration": 620,
    "start_time": "2023-05-17T16:42:45.380Z"
   },
   {
    "duration": 783,
    "start_time": "2023-05-17T16:42:54.243Z"
   },
   {
    "duration": 247,
    "start_time": "2023-05-17T16:49:47.936Z"
   },
   {
    "duration": 14,
    "start_time": "2023-05-17T16:56:07.598Z"
   },
   {
    "duration": 408,
    "start_time": "2023-05-17T16:56:34.973Z"
   },
   {
    "duration": 14,
    "start_time": "2023-05-17T17:06:43.402Z"
   },
   {
    "duration": 12,
    "start_time": "2023-05-17T17:07:38.920Z"
   },
   {
    "duration": 18,
    "start_time": "2023-05-17T17:14:11.024Z"
   },
   {
    "duration": 14,
    "start_time": "2023-05-17T17:14:51.393Z"
   },
   {
    "duration": 77,
    "start_time": "2023-05-19T08:17:30.639Z"
   },
   {
    "duration": 7,
    "start_time": "2023-05-19T08:17:36.356Z"
   },
   {
    "duration": 1218,
    "start_time": "2023-05-19T08:17:44.335Z"
   },
   {
    "duration": 242,
    "start_time": "2023-05-19T08:17:45.555Z"
   },
   {
    "duration": 17,
    "start_time": "2023-05-19T08:17:45.799Z"
   },
   {
    "duration": 9,
    "start_time": "2023-05-19T08:17:45.819Z"
   },
   {
    "duration": 45,
    "start_time": "2023-05-19T08:17:45.830Z"
   },
   {
    "duration": 14,
    "start_time": "2023-05-19T08:17:45.879Z"
   },
   {
    "duration": 18,
    "start_time": "2023-05-19T08:17:45.895Z"
   },
   {
    "duration": 40,
    "start_time": "2023-05-19T08:17:45.915Z"
   },
   {
    "duration": 27,
    "start_time": "2023-05-19T08:17:45.956Z"
   },
   {
    "duration": 9,
    "start_time": "2023-05-19T08:17:45.987Z"
   },
   {
    "duration": 19,
    "start_time": "2023-05-19T08:17:45.998Z"
   },
   {
    "duration": 11,
    "start_time": "2023-05-19T08:17:46.019Z"
   },
   {
    "duration": 8,
    "start_time": "2023-05-19T08:17:46.032Z"
   },
   {
    "duration": 8,
    "start_time": "2023-05-19T08:17:46.042Z"
   },
   {
    "duration": 6,
    "start_time": "2023-05-19T08:17:46.052Z"
   },
   {
    "duration": 8,
    "start_time": "2023-05-19T08:17:46.060Z"
   },
   {
    "duration": 28,
    "start_time": "2023-05-19T08:17:46.070Z"
   },
   {
    "duration": 155,
    "start_time": "2023-05-19T08:17:46.100Z"
   },
   {
    "duration": 9,
    "start_time": "2023-05-19T08:17:46.257Z"
   },
   {
    "duration": 154,
    "start_time": "2023-05-19T08:17:46.267Z"
   },
   {
    "duration": 9,
    "start_time": "2023-05-19T08:17:46.426Z"
   },
   {
    "duration": 9,
    "start_time": "2023-05-19T08:17:46.436Z"
   },
   {
    "duration": 22,
    "start_time": "2023-05-19T08:17:46.447Z"
   },
   {
    "duration": 12,
    "start_time": "2023-05-19T08:17:46.471Z"
   },
   {
    "duration": 9,
    "start_time": "2023-05-19T08:17:46.484Z"
   },
   {
    "duration": 594,
    "start_time": "2023-05-19T08:17:46.494Z"
   },
   {
    "duration": 227,
    "start_time": "2023-05-19T08:17:47.090Z"
   },
   {
    "duration": 327,
    "start_time": "2023-05-19T08:17:47.324Z"
   },
   {
    "duration": 13,
    "start_time": "2023-05-19T08:17:47.653Z"
   },
   {
    "duration": 198,
    "start_time": "2023-05-19T08:17:47.667Z"
   },
   {
    "duration": 219,
    "start_time": "2023-05-19T08:27:45.226Z"
   },
   {
    "duration": 188,
    "start_time": "2023-05-19T08:32:35.502Z"
   },
   {
    "duration": 184,
    "start_time": "2023-05-19T08:38:59.095Z"
   },
   {
    "duration": 5,
    "start_time": "2023-05-19T08:40:22.193Z"
   },
   {
    "duration": 257,
    "start_time": "2023-05-19T08:40:27.798Z"
   },
   {
    "duration": 177,
    "start_time": "2023-05-19T08:40:36.558Z"
   },
   {
    "duration": 200,
    "start_time": "2023-05-19T08:40:42.615Z"
   },
   {
    "duration": 199,
    "start_time": "2023-05-19T08:43:42.178Z"
   },
   {
    "duration": 901,
    "start_time": "2023-05-19T08:59:00.392Z"
   },
   {
    "duration": 43,
    "start_time": "2023-05-19T17:07:28.299Z"
   },
   {
    "duration": 7,
    "start_time": "2023-05-19T17:07:36.273Z"
   },
   {
    "duration": 1373,
    "start_time": "2023-05-19T17:07:44.730Z"
   },
   {
    "duration": 309,
    "start_time": "2023-05-19T17:07:46.107Z"
   },
   {
    "duration": 11,
    "start_time": "2023-05-19T17:07:46.418Z"
   },
   {
    "duration": 9,
    "start_time": "2023-05-19T17:07:46.431Z"
   },
   {
    "duration": 11,
    "start_time": "2023-05-19T17:07:46.442Z"
   },
   {
    "duration": 16,
    "start_time": "2023-05-19T17:07:46.455Z"
   },
   {
    "duration": 10,
    "start_time": "2023-05-19T17:07:46.473Z"
   },
   {
    "duration": 14,
    "start_time": "2023-05-19T17:07:46.485Z"
   },
   {
    "duration": 10,
    "start_time": "2023-05-19T17:07:46.501Z"
   },
   {
    "duration": 13,
    "start_time": "2023-05-19T17:07:46.512Z"
   },
   {
    "duration": 12,
    "start_time": "2023-05-19T17:07:46.526Z"
   },
   {
    "duration": 19,
    "start_time": "2023-05-19T17:07:46.540Z"
   },
   {
    "duration": 10,
    "start_time": "2023-05-19T17:07:46.562Z"
   },
   {
    "duration": 6,
    "start_time": "2023-05-19T17:07:46.575Z"
   },
   {
    "duration": 6,
    "start_time": "2023-05-19T17:07:46.583Z"
   },
   {
    "duration": 6,
    "start_time": "2023-05-19T17:07:46.591Z"
   },
   {
    "duration": 12,
    "start_time": "2023-05-19T17:07:46.599Z"
   },
   {
    "duration": 166,
    "start_time": "2023-05-19T17:07:46.613Z"
   },
   {
    "duration": 8,
    "start_time": "2023-05-19T17:07:46.781Z"
   },
   {
    "duration": 142,
    "start_time": "2023-05-19T17:07:46.790Z"
   },
   {
    "duration": 9,
    "start_time": "2023-05-19T17:07:46.934Z"
   },
   {
    "duration": 20,
    "start_time": "2023-05-19T17:07:46.945Z"
   },
   {
    "duration": 14,
    "start_time": "2023-05-19T17:07:46.967Z"
   },
   {
    "duration": 34,
    "start_time": "2023-05-19T17:07:46.983Z"
   },
   {
    "duration": 20,
    "start_time": "2023-05-19T17:07:47.019Z"
   },
   {
    "duration": 535,
    "start_time": "2023-05-19T17:07:47.040Z"
   },
   {
    "duration": 207,
    "start_time": "2023-05-19T17:07:47.577Z"
   },
   {
    "duration": 303,
    "start_time": "2023-05-19T17:07:47.786Z"
   },
   {
    "duration": 13,
    "start_time": "2023-05-19T17:07:48.091Z"
   },
   {
    "duration": 12,
    "start_time": "2023-05-19T17:07:48.105Z"
   },
   {
    "duration": 231,
    "start_time": "2023-05-19T17:07:48.118Z"
   },
   {
    "duration": 777,
    "start_time": "2023-05-19T17:07:48.357Z"
   },
   {
    "duration": 5,
    "start_time": "2023-05-19T17:10:17.996Z"
   },
   {
    "duration": 10,
    "start_time": "2023-05-19T17:10:25.915Z"
   },
   {
    "duration": 247,
    "start_time": "2023-05-19T17:15:51.194Z"
   },
   {
    "duration": 253,
    "start_time": "2023-05-19T17:16:01.890Z"
   },
   {
    "duration": 17,
    "start_time": "2023-05-19T17:30:33.928Z"
   },
   {
    "duration": 1001,
    "start_time": "2023-05-19T17:31:08.583Z"
   },
   {
    "duration": 114,
    "start_time": "2023-05-19T17:31:09.586Z"
   },
   {
    "duration": 12,
    "start_time": "2023-05-19T17:31:09.701Z"
   },
   {
    "duration": 8,
    "start_time": "2023-05-19T17:31:09.715Z"
   },
   {
    "duration": 8,
    "start_time": "2023-05-19T17:31:09.725Z"
   },
   {
    "duration": 13,
    "start_time": "2023-05-19T17:31:09.734Z"
   },
   {
    "duration": 12,
    "start_time": "2023-05-19T17:31:09.748Z"
   },
   {
    "duration": 20,
    "start_time": "2023-05-19T17:31:09.761Z"
   },
   {
    "duration": 12,
    "start_time": "2023-05-19T17:31:09.782Z"
   },
   {
    "duration": 7,
    "start_time": "2023-05-19T17:31:09.796Z"
   },
   {
    "duration": 9,
    "start_time": "2023-05-19T17:31:09.805Z"
   },
   {
    "duration": 11,
    "start_time": "2023-05-19T17:31:09.816Z"
   },
   {
    "duration": 16,
    "start_time": "2023-05-19T17:31:09.829Z"
   },
   {
    "duration": 8,
    "start_time": "2023-05-19T17:31:09.858Z"
   },
   {
    "duration": 31,
    "start_time": "2023-05-19T17:31:09.868Z"
   },
   {
    "duration": 13,
    "start_time": "2023-05-19T17:31:09.901Z"
   },
   {
    "duration": 11,
    "start_time": "2023-05-19T17:31:09.916Z"
   },
   {
    "duration": 122,
    "start_time": "2023-05-19T17:31:09.929Z"
   },
   {
    "duration": 9,
    "start_time": "2023-05-19T17:31:10.052Z"
   },
   {
    "duration": 120,
    "start_time": "2023-05-19T17:31:10.062Z"
   },
   {
    "duration": 11,
    "start_time": "2023-05-19T17:31:10.183Z"
   },
   {
    "duration": 14,
    "start_time": "2023-05-19T17:31:10.195Z"
   },
   {
    "duration": 13,
    "start_time": "2023-05-19T17:31:10.211Z"
   },
   {
    "duration": 9,
    "start_time": "2023-05-19T17:31:10.226Z"
   },
   {
    "duration": 10,
    "start_time": "2023-05-19T17:31:10.258Z"
   },
   {
    "duration": 533,
    "start_time": "2023-05-19T17:31:10.269Z"
   },
   {
    "duration": 191,
    "start_time": "2023-05-19T17:31:10.804Z"
   },
   {
    "duration": 262,
    "start_time": "2023-05-19T17:31:10.997Z"
   },
   {
    "duration": 13,
    "start_time": "2023-05-19T17:31:11.261Z"
   },
   {
    "duration": 211,
    "start_time": "2023-05-19T17:31:11.277Z"
   },
   {
    "duration": 244,
    "start_time": "2023-05-19T17:31:11.490Z"
   },
   {
    "duration": 125,
    "start_time": "2023-05-19T17:31:11.735Z"
   },
   {
    "duration": 10,
    "start_time": "2023-05-19T17:31:40.193Z"
   },
   {
    "duration": 12,
    "start_time": "2023-05-19T17:34:41.810Z"
   },
   {
    "duration": 266,
    "start_time": "2023-05-19T17:34:47.382Z"
   },
   {
    "duration": 14,
    "start_time": "2023-05-19T17:34:49.838Z"
   },
   {
    "duration": 11,
    "start_time": "2023-05-19T17:35:28.928Z"
   },
   {
    "duration": 10,
    "start_time": "2023-05-19T17:37:00.975Z"
   },
   {
    "duration": 9,
    "start_time": "2023-05-19T17:41:49.062Z"
   },
   {
    "duration": 127,
    "start_time": "2023-05-19T17:43:29.555Z"
   },
   {
    "duration": 52,
    "start_time": "2023-05-20T10:19:02.154Z"
   },
   {
    "duration": 1135,
    "start_time": "2023-05-20T10:19:11.282Z"
   },
   {
    "duration": 257,
    "start_time": "2023-05-20T10:19:12.419Z"
   },
   {
    "duration": 12,
    "start_time": "2023-05-20T10:19:12.678Z"
   },
   {
    "duration": 8,
    "start_time": "2023-05-20T10:19:12.692Z"
   },
   {
    "duration": 12,
    "start_time": "2023-05-20T10:19:12.702Z"
   },
   {
    "duration": 12,
    "start_time": "2023-05-20T10:19:12.798Z"
   },
   {
    "duration": 10,
    "start_time": "2023-05-20T10:19:13.040Z"
   },
   {
    "duration": 11,
    "start_time": "2023-05-20T10:19:13.879Z"
   },
   {
    "duration": 4,
    "start_time": "2023-05-20T10:19:14.311Z"
   },
   {
    "duration": 6,
    "start_time": "2023-05-20T10:19:14.520Z"
   },
   {
    "duration": 6,
    "start_time": "2023-05-20T10:19:14.719Z"
   },
   {
    "duration": 7,
    "start_time": "2023-05-20T10:19:15.031Z"
   },
   {
    "duration": 6,
    "start_time": "2023-05-20T10:19:15.223Z"
   },
   {
    "duration": 6,
    "start_time": "2023-05-20T10:19:15.439Z"
   },
   {
    "duration": 4,
    "start_time": "2023-05-20T10:19:15.600Z"
   },
   {
    "duration": 6,
    "start_time": "2023-05-20T10:19:16.167Z"
   },
   {
    "duration": 9,
    "start_time": "2023-05-20T10:19:16.344Z"
   },
   {
    "duration": 133,
    "start_time": "2023-05-20T10:19:16.535Z"
   },
   {
    "duration": 7,
    "start_time": "2023-05-20T10:19:16.912Z"
   },
   {
    "duration": 121,
    "start_time": "2023-05-20T10:19:17.072Z"
   },
   {
    "duration": 9,
    "start_time": "2023-05-20T10:19:17.792Z"
   },
   {
    "duration": 8,
    "start_time": "2023-05-20T10:19:18.452Z"
   },
   {
    "duration": 10,
    "start_time": "2023-05-20T10:19:20.048Z"
   },
   {
    "duration": 9,
    "start_time": "2023-05-20T10:19:20.643Z"
   },
   {
    "duration": 8,
    "start_time": "2023-05-20T10:19:20.871Z"
   },
   {
    "duration": 519,
    "start_time": "2023-05-20T10:19:22.180Z"
   },
   {
    "duration": 173,
    "start_time": "2023-05-20T10:19:23.379Z"
   },
   {
    "duration": 311,
    "start_time": "2023-05-20T10:19:25.051Z"
   },
   {
    "duration": 12,
    "start_time": "2023-05-20T10:19:26.005Z"
   },
   {
    "duration": 207,
    "start_time": "2023-05-20T10:19:26.551Z"
   },
   {
    "duration": 229,
    "start_time": "2023-05-20T10:19:28.076Z"
   },
   {
    "duration": 9,
    "start_time": "2023-05-20T10:19:44.013Z"
   },
   {
    "duration": 132,
    "start_time": "2023-05-20T10:19:45.645Z"
   },
   {
    "duration": 56,
    "start_time": "2023-05-20T10:19:46.149Z"
   },
   {
    "duration": 5,
    "start_time": "2023-05-20T10:19:56.005Z"
   },
   {
    "duration": 6,
    "start_time": "2023-05-20T10:22:29.621Z"
   },
   {
    "duration": 130,
    "start_time": "2023-05-20T10:23:15.406Z"
   },
   {
    "duration": 203,
    "start_time": "2023-05-20T10:30:05.044Z"
   },
   {
    "duration": 1178,
    "start_time": "2023-05-20T10:30:19.019Z"
   },
   {
    "duration": 143,
    "start_time": "2023-05-20T10:31:35.588Z"
   },
   {
    "duration": 143,
    "start_time": "2023-05-20T10:31:56.938Z"
   },
   {
    "duration": 752,
    "start_time": "2023-05-20T10:33:10.059Z"
   },
   {
    "duration": 158,
    "start_time": "2023-05-20T10:38:52.970Z"
   },
   {
    "duration": 5,
    "start_time": "2023-05-20T10:41:43.037Z"
   },
   {
    "duration": 123,
    "start_time": "2023-05-20T11:01:49.121Z"
   },
   {
    "duration": 57,
    "start_time": "2023-05-20T11:15:36.549Z"
   },
   {
    "duration": 1165,
    "start_time": "2023-05-20T11:16:41.371Z"
   },
   {
    "duration": 1104,
    "start_time": "2023-05-20T11:22:37.002Z"
   },
   {
    "duration": 268,
    "start_time": "2023-05-20T11:31:25.672Z"
   },
   {
    "duration": 1143,
    "start_time": "2023-05-20T11:32:18.143Z"
   },
   {
    "duration": 107,
    "start_time": "2023-05-20T11:36:57.950Z"
   },
   {
    "duration": 290,
    "start_time": "2023-05-20T11:41:15.285Z"
   },
   {
    "duration": 375,
    "start_time": "2023-05-20T11:41:39.123Z"
   },
   {
    "duration": 476,
    "start_time": "2023-05-20T11:54:09.346Z"
   },
   {
    "duration": 91,
    "start_time": "2023-05-20T11:54:43.104Z"
   },
   {
    "duration": 54,
    "start_time": "2023-05-20T11:54:58.359Z"
   },
   {
    "duration": 458,
    "start_time": "2023-05-20T11:55:15.775Z"
   },
   {
    "duration": 440,
    "start_time": "2023-05-20T11:57:08.205Z"
   },
   {
    "duration": 65,
    "start_time": "2023-05-20T12:01:57.101Z"
   },
   {
    "duration": 58,
    "start_time": "2023-05-20T12:02:24.851Z"
   },
   {
    "duration": 81,
    "start_time": "2023-05-20T12:03:32.397Z"
   },
   {
    "duration": 62,
    "start_time": "2023-05-20T12:03:44.766Z"
   },
   {
    "duration": 451,
    "start_time": "2023-05-20T12:04:01.747Z"
   },
   {
    "duration": 70,
    "start_time": "2023-05-20T12:05:07.492Z"
   },
   {
    "duration": 444,
    "start_time": "2023-05-20T12:09:12.728Z"
   },
   {
    "duration": 436,
    "start_time": "2023-05-20T12:09:55.466Z"
   },
   {
    "duration": 420,
    "start_time": "2023-05-20T12:11:36.848Z"
   },
   {
    "duration": 19,
    "start_time": "2023-05-20T12:24:33.413Z"
   },
   {
    "duration": 19,
    "start_time": "2023-05-20T12:31:47.844Z"
   },
   {
    "duration": 12,
    "start_time": "2023-05-20T12:34:21.855Z"
   },
   {
    "duration": 5,
    "start_time": "2023-05-20T12:41:51.418Z"
   },
   {
    "duration": 11,
    "start_time": "2023-05-20T12:43:49.379Z"
   },
   {
    "duration": 901,
    "start_time": "2023-05-20T13:10:48.609Z"
   },
   {
    "duration": 10,
    "start_time": "2023-05-20T13:11:16.257Z"
   },
   {
    "duration": 7,
    "start_time": "2023-05-20T13:13:00.619Z"
   },
   {
    "duration": 1077,
    "start_time": "2023-05-20T13:13:49.154Z"
   },
   {
    "duration": 10,
    "start_time": "2023-05-20T13:14:34.143Z"
   },
   {
    "duration": 14,
    "start_time": "2023-05-20T13:14:45.557Z"
   },
   {
    "duration": 1029,
    "start_time": "2023-05-20T13:17:40.941Z"
   },
   {
    "duration": 925,
    "start_time": "2023-05-20T13:19:18.545Z"
   },
   {
    "duration": 54,
    "start_time": "2023-05-20T13:21:09.745Z"
   },
   {
    "duration": 57,
    "start_time": "2023-05-20T13:21:42.846Z"
   },
   {
    "duration": 71,
    "start_time": "2023-05-20T13:25:30.776Z"
   },
   {
    "duration": 55,
    "start_time": "2023-05-20T13:30:46.054Z"
   },
   {
    "duration": 36,
    "start_time": "2023-05-20T13:30:57.175Z"
   },
   {
    "duration": 75,
    "start_time": "2023-05-20T13:38:27.991Z"
   },
   {
    "duration": 99,
    "start_time": "2023-05-20T13:38:45.156Z"
   },
   {
    "duration": 58,
    "start_time": "2023-05-20T13:38:58.251Z"
   },
   {
    "duration": 73,
    "start_time": "2023-05-20T13:40:45.517Z"
   },
   {
    "duration": 67,
    "start_time": "2023-05-20T13:43:05.299Z"
   },
   {
    "duration": 970,
    "start_time": "2023-05-20T13:43:49.893Z"
   },
   {
    "duration": 924,
    "start_time": "2023-05-20T13:44:11.486Z"
   },
   {
    "duration": 903,
    "start_time": "2023-05-20T13:44:35.860Z"
   },
   {
    "duration": 935,
    "start_time": "2023-05-20T13:45:23.309Z"
   },
   {
    "duration": 21,
    "start_time": "2023-05-20T13:46:30.468Z"
   },
   {
    "duration": 15,
    "start_time": "2023-05-20T13:47:05.568Z"
   },
   {
    "duration": 16,
    "start_time": "2023-05-20T13:47:13.042Z"
   },
   {
    "duration": 14,
    "start_time": "2023-05-20T13:47:21.266Z"
   },
   {
    "duration": 18,
    "start_time": "2023-05-20T13:47:54.854Z"
   },
   {
    "duration": 492,
    "start_time": "2023-05-20T14:16:47.338Z"
   },
   {
    "duration": 216,
    "start_time": "2023-05-20T14:17:00.931Z"
   },
   {
    "duration": 293,
    "start_time": "2023-05-20T14:17:15.171Z"
   },
   {
    "duration": 230,
    "start_time": "2023-05-20T14:17:38.380Z"
   },
   {
    "duration": 315,
    "start_time": "2023-05-20T14:17:45.792Z"
   },
   {
    "duration": 54,
    "start_time": "2023-05-20T14:18:00.306Z"
   },
   {
    "duration": 125,
    "start_time": "2023-05-20T14:18:16.522Z"
   },
   {
    "duration": 220,
    "start_time": "2023-05-20T14:18:23.123Z"
   },
   {
    "duration": 149,
    "start_time": "2023-05-20T14:18:37.363Z"
   },
   {
    "duration": 524,
    "start_time": "2023-05-20T15:57:27.375Z"
   },
   {
    "duration": 526,
    "start_time": "2023-05-20T15:57:41.257Z"
   },
   {
    "duration": 567,
    "start_time": "2023-05-20T15:58:01.783Z"
   },
   {
    "duration": 234,
    "start_time": "2023-05-20T15:58:37.350Z"
   },
   {
    "duration": 322,
    "start_time": "2023-05-20T15:59:30.279Z"
   },
   {
    "duration": 281,
    "start_time": "2023-05-20T16:00:18.502Z"
   },
   {
    "duration": 403,
    "start_time": "2023-05-20T16:01:15.504Z"
   },
   {
    "duration": 331,
    "start_time": "2023-05-20T16:01:31.754Z"
   },
   {
    "duration": 216,
    "start_time": "2023-05-20T16:02:49.617Z"
   },
   {
    "duration": 175,
    "start_time": "2023-05-20T16:03:39.102Z"
   },
   {
    "duration": 975,
    "start_time": "2023-05-21T05:43:18.182Z"
   },
   {
    "duration": 116,
    "start_time": "2023-05-21T05:43:19.159Z"
   },
   {
    "duration": 20,
    "start_time": "2023-05-21T05:43:19.276Z"
   },
   {
    "duration": 18,
    "start_time": "2023-05-21T05:43:19.298Z"
   },
   {
    "duration": 13,
    "start_time": "2023-05-21T05:43:19.317Z"
   },
   {
    "duration": 14,
    "start_time": "2023-05-21T05:43:19.331Z"
   },
   {
    "duration": 13,
    "start_time": "2023-05-21T05:43:19.347Z"
   },
   {
    "duration": 16,
    "start_time": "2023-05-21T05:43:19.362Z"
   },
   {
    "duration": 5,
    "start_time": "2023-05-21T05:43:19.380Z"
   },
   {
    "duration": 9,
    "start_time": "2023-05-21T05:43:19.387Z"
   },
   {
    "duration": 7,
    "start_time": "2023-05-21T05:43:19.398Z"
   },
   {
    "duration": 21,
    "start_time": "2023-05-21T05:43:19.406Z"
   },
   {
    "duration": 7,
    "start_time": "2023-05-21T05:43:19.429Z"
   },
   {
    "duration": 8,
    "start_time": "2023-05-21T05:43:19.438Z"
   },
   {
    "duration": 8,
    "start_time": "2023-05-21T05:43:19.447Z"
   },
   {
    "duration": 11,
    "start_time": "2023-05-21T05:43:19.456Z"
   },
   {
    "duration": 10,
    "start_time": "2023-05-21T05:43:19.469Z"
   },
   {
    "duration": 145,
    "start_time": "2023-05-21T05:43:19.481Z"
   },
   {
    "duration": 8,
    "start_time": "2023-05-21T05:43:19.627Z"
   },
   {
    "duration": 124,
    "start_time": "2023-05-21T05:43:19.636Z"
   },
   {
    "duration": 10,
    "start_time": "2023-05-21T05:43:19.761Z"
   },
   {
    "duration": 14,
    "start_time": "2023-05-21T05:43:19.773Z"
   },
   {
    "duration": 15,
    "start_time": "2023-05-21T05:43:19.788Z"
   },
   {
    "duration": 23,
    "start_time": "2023-05-21T05:43:19.804Z"
   },
   {
    "duration": 9,
    "start_time": "2023-05-21T05:43:19.829Z"
   },
   {
    "duration": 527,
    "start_time": "2023-05-21T05:43:19.839Z"
   },
   {
    "duration": 205,
    "start_time": "2023-05-21T05:43:20.368Z"
   },
   {
    "duration": 282,
    "start_time": "2023-05-21T05:43:20.576Z"
   },
   {
    "duration": 13,
    "start_time": "2023-05-21T05:43:20.860Z"
   },
   {
    "duration": 290,
    "start_time": "2023-05-21T05:43:20.875Z"
   },
   {
    "duration": 275,
    "start_time": "2023-05-21T05:43:21.167Z"
   },
   {
    "duration": 8,
    "start_time": "2023-05-21T05:43:21.443Z"
   },
   {
    "duration": 176,
    "start_time": "2023-05-21T05:43:21.452Z"
   },
   {
    "duration": 4,
    "start_time": "2023-05-21T05:43:21.630Z"
   },
   {
    "duration": 168,
    "start_time": "2023-05-21T05:43:21.635Z"
   },
   {
    "duration": 4,
    "start_time": "2023-05-21T05:43:21.805Z"
   },
   {
    "duration": 419,
    "start_time": "2023-05-21T05:43:21.811Z"
   },
   {
    "duration": 10,
    "start_time": "2023-05-21T05:43:22.231Z"
   },
   {
    "duration": 65,
    "start_time": "2023-05-21T05:43:22.243Z"
   },
   {
    "duration": 12,
    "start_time": "2023-05-21T05:43:22.310Z"
   },
   {
    "duration": 123,
    "start_time": "2023-05-21T06:50:56.796Z"
   },
   {
    "duration": 78,
    "start_time": "2023-05-21T12:04:04.749Z"
   },
   {
    "duration": 28,
    "start_time": "2023-05-21T12:04:11.481Z"
   },
   {
    "duration": 1675,
    "start_time": "2023-05-21T12:04:16.484Z"
   },
   {
    "duration": 368,
    "start_time": "2023-05-21T12:04:18.166Z"
   },
   {
    "duration": 16,
    "start_time": "2023-05-21T12:04:18.536Z"
   },
   {
    "duration": 37,
    "start_time": "2023-05-21T12:04:18.554Z"
   },
   {
    "duration": 15,
    "start_time": "2023-05-21T12:04:18.599Z"
   },
   {
    "duration": 16,
    "start_time": "2023-05-21T12:04:18.617Z"
   },
   {
    "duration": 27,
    "start_time": "2023-05-21T12:04:18.634Z"
   },
   {
    "duration": 48,
    "start_time": "2023-05-21T12:04:18.664Z"
   },
   {
    "duration": 5,
    "start_time": "2023-05-21T12:04:18.717Z"
   },
   {
    "duration": 13,
    "start_time": "2023-05-21T12:04:18.725Z"
   },
   {
    "duration": 12,
    "start_time": "2023-05-21T12:04:18.740Z"
   },
   {
    "duration": 23,
    "start_time": "2023-05-21T12:04:18.754Z"
   },
   {
    "duration": 22,
    "start_time": "2023-05-21T12:04:18.780Z"
   },
   {
    "duration": 20,
    "start_time": "2023-05-21T12:04:18.806Z"
   },
   {
    "duration": 6,
    "start_time": "2023-05-21T12:04:18.834Z"
   },
   {
    "duration": 61,
    "start_time": "2023-05-21T12:04:18.842Z"
   },
   {
    "duration": 18,
    "start_time": "2023-05-21T12:04:18.909Z"
   },
   {
    "duration": 204,
    "start_time": "2023-05-21T12:04:18.930Z"
   },
   {
    "duration": 12,
    "start_time": "2023-05-21T12:04:19.136Z"
   },
   {
    "duration": 196,
    "start_time": "2023-05-21T12:04:19.157Z"
   },
   {
    "duration": 16,
    "start_time": "2023-05-21T12:04:19.356Z"
   },
   {
    "duration": 14,
    "start_time": "2023-05-21T12:04:19.375Z"
   },
   {
    "duration": 19,
    "start_time": "2023-05-21T12:04:19.391Z"
   },
   {
    "duration": 53,
    "start_time": "2023-05-21T12:04:19.412Z"
   },
   {
    "duration": 32,
    "start_time": "2023-05-21T12:04:19.467Z"
   },
   {
    "duration": 876,
    "start_time": "2023-05-21T12:04:19.502Z"
   },
   {
    "duration": 291,
    "start_time": "2023-05-21T12:04:20.381Z"
   },
   {
    "duration": 418,
    "start_time": "2023-05-21T12:04:20.674Z"
   },
   {
    "duration": 26,
    "start_time": "2023-05-21T12:04:21.098Z"
   },
   {
    "duration": 354,
    "start_time": "2023-05-21T12:04:21.129Z"
   },
   {
    "duration": 355,
    "start_time": "2023-05-21T12:04:21.488Z"
   },
   {
    "duration": 29,
    "start_time": "2023-05-21T12:04:21.845Z"
   },
   {
    "duration": 206,
    "start_time": "2023-05-21T12:04:21.877Z"
   },
   {
    "duration": 6,
    "start_time": "2023-05-21T12:04:22.085Z"
   },
   {
    "duration": 239,
    "start_time": "2023-05-21T12:04:22.093Z"
   },
   {
    "duration": 6,
    "start_time": "2023-05-21T12:04:22.334Z"
   },
   {
    "duration": 632,
    "start_time": "2023-05-21T12:04:22.342Z"
   },
   {
    "duration": 25,
    "start_time": "2023-05-21T12:04:22.977Z"
   },
   {
    "duration": 45,
    "start_time": "2023-05-21T12:04:23.005Z"
   },
   {
    "duration": 38,
    "start_time": "2023-05-21T12:04:23.052Z"
   },
   {
    "duration": 60,
    "start_time": "2023-05-21T12:05:10.581Z"
   },
   {
    "duration": 78,
    "start_time": "2023-05-21T12:05:34.925Z"
   },
   {
    "duration": 108,
    "start_time": "2023-05-21T12:05:39.137Z"
   },
   {
    "duration": 211,
    "start_time": "2023-05-21T12:05:41.815Z"
   },
   {
    "duration": 51,
    "start_time": "2023-05-21T12:05:54.306Z"
   },
   {
    "duration": 66,
    "start_time": "2023-05-21T12:06:36.873Z"
   },
   {
    "duration": 1466,
    "start_time": "2023-05-21T12:09:32.847Z"
   },
   {
    "duration": 1232,
    "start_time": "2023-05-21T12:10:20.809Z"
   },
   {
    "duration": 164,
    "start_time": "2023-05-21T12:10:35.110Z"
   },
   {
    "duration": 1148,
    "start_time": "2023-05-21T12:10:48.282Z"
   },
   {
    "duration": 32,
    "start_time": "2023-05-21T12:11:32.583Z"
   },
   {
    "duration": 1313,
    "start_time": "2023-05-21T12:11:50.489Z"
   },
   {
    "duration": 172,
    "start_time": "2023-05-21T12:11:51.805Z"
   },
   {
    "duration": 16,
    "start_time": "2023-05-21T12:11:51.979Z"
   },
   {
    "duration": 9,
    "start_time": "2023-05-21T12:11:51.997Z"
   },
   {
    "duration": 19,
    "start_time": "2023-05-21T12:11:52.009Z"
   },
   {
    "duration": 23,
    "start_time": "2023-05-21T12:11:52.030Z"
   },
   {
    "duration": 41,
    "start_time": "2023-05-21T12:11:52.055Z"
   },
   {
    "duration": 12,
    "start_time": "2023-05-21T12:11:52.099Z"
   },
   {
    "duration": 5,
    "start_time": "2023-05-21T12:11:52.113Z"
   },
   {
    "duration": 20,
    "start_time": "2023-05-21T12:11:52.120Z"
   },
   {
    "duration": 8,
    "start_time": "2023-05-21T12:11:52.142Z"
   },
   {
    "duration": 14,
    "start_time": "2023-05-21T12:11:52.152Z"
   },
   {
    "duration": 17,
    "start_time": "2023-05-21T12:11:52.168Z"
   },
   {
    "duration": 12,
    "start_time": "2023-05-21T12:11:52.190Z"
   },
   {
    "duration": 5,
    "start_time": "2023-05-21T12:11:52.206Z"
   },
   {
    "duration": 13,
    "start_time": "2023-05-21T12:11:52.213Z"
   },
   {
    "duration": 25,
    "start_time": "2023-05-21T12:11:52.228Z"
   },
   {
    "duration": 173,
    "start_time": "2023-05-21T12:11:52.255Z"
   },
   {
    "duration": 9,
    "start_time": "2023-05-21T12:11:52.430Z"
   },
   {
    "duration": 170,
    "start_time": "2023-05-21T12:11:52.441Z"
   },
   {
    "duration": 13,
    "start_time": "2023-05-21T12:11:52.613Z"
   },
   {
    "duration": 11,
    "start_time": "2023-05-21T12:11:52.629Z"
   },
   {
    "duration": 39,
    "start_time": "2023-05-21T12:11:52.661Z"
   },
   {
    "duration": 13,
    "start_time": "2023-05-21T12:11:52.701Z"
   },
   {
    "duration": 14,
    "start_time": "2023-05-21T12:11:52.717Z"
   },
   {
    "duration": 762,
    "start_time": "2023-05-21T12:11:52.732Z"
   },
   {
    "duration": 257,
    "start_time": "2023-05-21T12:11:53.496Z"
   },
   {
    "duration": 377,
    "start_time": "2023-05-21T12:11:53.760Z"
   },
   {
    "duration": 39,
    "start_time": "2023-05-21T12:11:54.139Z"
   },
   {
    "duration": 310,
    "start_time": "2023-05-21T12:11:54.181Z"
   },
   {
    "duration": 352,
    "start_time": "2023-05-21T12:11:54.495Z"
   },
   {
    "duration": 21,
    "start_time": "2023-05-21T12:11:54.849Z"
   },
   {
    "duration": 257,
    "start_time": "2023-05-21T12:11:54.872Z"
   },
   {
    "duration": 6,
    "start_time": "2023-05-21T12:11:55.132Z"
   },
   {
    "duration": 224,
    "start_time": "2023-05-21T12:11:55.141Z"
   },
   {
    "duration": 5,
    "start_time": "2023-05-21T12:11:55.367Z"
   },
   {
    "duration": 558,
    "start_time": "2023-05-21T12:11:55.374Z"
   },
   {
    "duration": 28,
    "start_time": "2023-05-21T12:11:55.934Z"
   },
   {
    "duration": 58,
    "start_time": "2023-05-21T12:11:55.965Z"
   },
   {
    "duration": 16,
    "start_time": "2023-05-21T12:11:56.026Z"
   },
   {
    "duration": 1248,
    "start_time": "2023-05-21T12:12:10.680Z"
   },
   {
    "duration": 1230,
    "start_time": "2023-05-21T12:12:37.397Z"
   },
   {
    "duration": 165,
    "start_time": "2023-05-21T12:12:38.629Z"
   },
   {
    "duration": 20,
    "start_time": "2023-05-21T12:12:38.796Z"
   },
   {
    "duration": 16,
    "start_time": "2023-05-21T12:12:38.818Z"
   },
   {
    "duration": 10,
    "start_time": "2023-05-21T12:12:38.838Z"
   },
   {
    "duration": 30,
    "start_time": "2023-05-21T12:12:38.850Z"
   },
   {
    "duration": 39,
    "start_time": "2023-05-21T12:12:38.883Z"
   },
   {
    "duration": 24,
    "start_time": "2023-05-21T12:12:38.925Z"
   },
   {
    "duration": 21,
    "start_time": "2023-05-21T12:12:38.951Z"
   },
   {
    "duration": 20,
    "start_time": "2023-05-21T12:12:38.977Z"
   },
   {
    "duration": 19,
    "start_time": "2023-05-21T12:12:38.999Z"
   },
   {
    "duration": 10,
    "start_time": "2023-05-21T12:12:39.022Z"
   },
   {
    "duration": 8,
    "start_time": "2023-05-21T12:12:39.034Z"
   },
   {
    "duration": 8,
    "start_time": "2023-05-21T12:12:39.046Z"
   },
   {
    "duration": 26,
    "start_time": "2023-05-21T12:12:39.057Z"
   },
   {
    "duration": 7,
    "start_time": "2023-05-21T12:12:39.087Z"
   },
   {
    "duration": 28,
    "start_time": "2023-05-21T12:12:39.097Z"
   },
   {
    "duration": 250,
    "start_time": "2023-05-21T12:12:39.128Z"
   },
   {
    "duration": 13,
    "start_time": "2023-05-21T12:12:39.381Z"
   },
   {
    "duration": 185,
    "start_time": "2023-05-21T12:12:39.397Z"
   },
   {
    "duration": 14,
    "start_time": "2023-05-21T12:12:39.584Z"
   },
   {
    "duration": 12,
    "start_time": "2023-05-21T12:12:39.599Z"
   },
   {
    "duration": 13,
    "start_time": "2023-05-21T12:12:39.615Z"
   },
   {
    "duration": 53,
    "start_time": "2023-05-21T12:12:39.630Z"
   },
   {
    "duration": 23,
    "start_time": "2023-05-21T12:12:39.689Z"
   },
   {
    "duration": 659,
    "start_time": "2023-05-21T12:12:39.715Z"
   },
   {
    "duration": 270,
    "start_time": "2023-05-21T12:12:40.377Z"
   },
   {
    "duration": 414,
    "start_time": "2023-05-21T12:12:40.656Z"
   },
   {
    "duration": 20,
    "start_time": "2023-05-21T12:12:41.072Z"
   },
   {
    "duration": 370,
    "start_time": "2023-05-21T12:12:41.095Z"
   },
   {
    "duration": 456,
    "start_time": "2023-05-21T12:12:41.467Z"
   },
   {
    "duration": 13,
    "start_time": "2023-05-21T12:12:41.926Z"
   },
   {
    "duration": 248,
    "start_time": "2023-05-21T12:12:41.940Z"
   },
   {
    "duration": 12,
    "start_time": "2023-05-21T12:12:42.195Z"
   },
   {
    "duration": 206,
    "start_time": "2023-05-21T12:12:42.210Z"
   },
   {
    "duration": 5,
    "start_time": "2023-05-21T12:12:42.418Z"
   },
   {
    "duration": 596,
    "start_time": "2023-05-21T12:12:42.425Z"
   },
   {
    "duration": 13,
    "start_time": "2023-05-21T12:12:43.024Z"
   },
   {
    "duration": 61,
    "start_time": "2023-05-21T12:12:43.038Z"
   },
   {
    "duration": 22,
    "start_time": "2023-05-21T12:12:43.102Z"
   },
   {
    "duration": 1199,
    "start_time": "2023-05-21T12:13:10.551Z"
   },
   {
    "duration": 1194,
    "start_time": "2023-05-21T12:16:41.206Z"
   },
   {
    "duration": 143,
    "start_time": "2023-05-21T12:16:42.407Z"
   },
   {
    "duration": 18,
    "start_time": "2023-05-21T12:16:42.551Z"
   },
   {
    "duration": 15,
    "start_time": "2023-05-21T12:16:42.572Z"
   },
   {
    "duration": 13,
    "start_time": "2023-05-21T12:16:42.589Z"
   },
   {
    "duration": 15,
    "start_time": "2023-05-21T12:16:42.603Z"
   },
   {
    "duration": 13,
    "start_time": "2023-05-21T12:16:42.620Z"
   },
   {
    "duration": 39,
    "start_time": "2023-05-21T12:16:42.635Z"
   },
   {
    "duration": 15,
    "start_time": "2023-05-21T12:16:42.679Z"
   },
   {
    "duration": 7,
    "start_time": "2023-05-21T12:16:42.698Z"
   },
   {
    "duration": 8,
    "start_time": "2023-05-21T12:16:42.707Z"
   },
   {
    "duration": 29,
    "start_time": "2023-05-21T12:16:42.717Z"
   },
   {
    "duration": 22,
    "start_time": "2023-05-21T12:16:42.749Z"
   },
   {
    "duration": 16,
    "start_time": "2023-05-21T12:16:42.774Z"
   },
   {
    "duration": 7,
    "start_time": "2023-05-21T12:16:42.796Z"
   },
   {
    "duration": 7,
    "start_time": "2023-05-21T12:16:42.805Z"
   },
   {
    "duration": 12,
    "start_time": "2023-05-21T12:16:42.813Z"
   },
   {
    "duration": 186,
    "start_time": "2023-05-21T12:16:42.827Z"
   },
   {
    "duration": 9,
    "start_time": "2023-05-21T12:16:43.014Z"
   },
   {
    "duration": 173,
    "start_time": "2023-05-21T12:16:43.025Z"
   },
   {
    "duration": 24,
    "start_time": "2023-05-21T12:16:43.200Z"
   },
   {
    "duration": 22,
    "start_time": "2023-05-21T12:16:43.226Z"
   },
   {
    "duration": 28,
    "start_time": "2023-05-21T12:16:43.251Z"
   },
   {
    "duration": 26,
    "start_time": "2023-05-21T12:16:43.281Z"
   },
   {
    "duration": 10,
    "start_time": "2023-05-21T12:16:43.309Z"
   },
   {
    "duration": 727,
    "start_time": "2023-05-21T12:16:43.322Z"
   },
   {
    "duration": 284,
    "start_time": "2023-05-21T12:16:44.051Z"
   },
   {
    "duration": 372,
    "start_time": "2023-05-21T12:16:44.339Z"
   },
   {
    "duration": 14,
    "start_time": "2023-05-21T12:16:44.713Z"
   },
   {
    "duration": 349,
    "start_time": "2023-05-21T12:16:44.729Z"
   },
   {
    "duration": 349,
    "start_time": "2023-05-21T12:16:45.080Z"
   },
   {
    "duration": 9,
    "start_time": "2023-05-21T12:16:45.431Z"
   },
   {
    "duration": 194,
    "start_time": "2023-05-21T12:16:45.442Z"
   },
   {
    "duration": 12,
    "start_time": "2023-05-21T12:16:45.638Z"
   },
   {
    "duration": 198,
    "start_time": "2023-05-21T12:16:45.659Z"
   },
   {
    "duration": 7,
    "start_time": "2023-05-21T12:16:45.859Z"
   },
   {
    "duration": 579,
    "start_time": "2023-05-21T12:16:45.868Z"
   },
   {
    "duration": 29,
    "start_time": "2023-05-21T12:16:46.449Z"
   },
   {
    "duration": 40,
    "start_time": "2023-05-21T12:16:46.481Z"
   },
   {
    "duration": 15,
    "start_time": "2023-05-21T12:16:46.523Z"
   },
   {
    "duration": 131,
    "start_time": "2023-05-21T12:18:48.755Z"
   },
   {
    "duration": 169,
    "start_time": "2023-05-21T12:20:30.056Z"
   },
   {
    "duration": 184,
    "start_time": "2023-05-21T12:21:02.150Z"
   },
   {
    "duration": 233,
    "start_time": "2023-05-21T12:21:09.220Z"
   },
   {
    "duration": 380,
    "start_time": "2023-05-21T12:26:59.298Z"
   },
   {
    "duration": 276,
    "start_time": "2023-05-21T12:29:38.248Z"
   },
   {
    "duration": 293,
    "start_time": "2023-05-21T12:30:08.072Z"
   },
   {
    "duration": 31,
    "start_time": "2023-05-21T12:31:04.676Z"
   },
   {
    "duration": 273,
    "start_time": "2023-05-21T12:32:13.539Z"
   },
   {
    "duration": 211,
    "start_time": "2023-05-21T12:32:55.285Z"
   },
   {
    "duration": 261,
    "start_time": "2023-05-21T12:34:32.346Z"
   },
   {
    "duration": 219,
    "start_time": "2023-05-21T12:34:44.982Z"
   },
   {
    "duration": 213,
    "start_time": "2023-05-21T12:35:01.951Z"
   },
   {
    "duration": 424,
    "start_time": "2023-05-21T12:35:36.020Z"
   },
   {
    "duration": 220,
    "start_time": "2023-05-21T12:35:50.648Z"
   },
   {
    "duration": 266,
    "start_time": "2023-05-21T12:36:00.149Z"
   },
   {
    "duration": 231,
    "start_time": "2023-05-21T12:36:30.772Z"
   },
   {
    "duration": 207,
    "start_time": "2023-05-21T12:36:45.003Z"
   },
   {
    "duration": 221,
    "start_time": "2023-05-21T12:37:23.096Z"
   },
   {
    "duration": 59,
    "start_time": "2023-05-21T12:37:40.981Z"
   },
   {
    "duration": 50,
    "start_time": "2023-05-21T12:37:52.985Z"
   },
   {
    "duration": 81,
    "start_time": "2023-05-21T12:38:16.943Z"
   },
   {
    "duration": 258,
    "start_time": "2023-05-21T12:40:00.754Z"
   },
   {
    "duration": 4,
    "start_time": "2023-05-21T13:02:01.117Z"
   },
   {
    "duration": 1374,
    "start_time": "2023-05-21T14:19:02.530Z"
   },
   {
    "duration": 297,
    "start_time": "2023-05-21T14:19:03.906Z"
   },
   {
    "duration": 12,
    "start_time": "2023-05-21T14:19:04.205Z"
   },
   {
    "duration": 8,
    "start_time": "2023-05-21T14:19:04.219Z"
   },
   {
    "duration": 17,
    "start_time": "2023-05-21T14:19:04.229Z"
   },
   {
    "duration": 24,
    "start_time": "2023-05-21T14:19:04.248Z"
   },
   {
    "duration": 17,
    "start_time": "2023-05-21T14:19:04.274Z"
   },
   {
    "duration": 13,
    "start_time": "2023-05-21T14:19:04.293Z"
   },
   {
    "duration": 8,
    "start_time": "2023-05-21T14:19:04.307Z"
   },
   {
    "duration": 6,
    "start_time": "2023-05-21T14:19:04.318Z"
   },
   {
    "duration": 7,
    "start_time": "2023-05-21T14:19:04.325Z"
   },
   {
    "duration": 36,
    "start_time": "2023-05-21T14:19:04.334Z"
   },
   {
    "duration": 8,
    "start_time": "2023-05-21T14:19:04.372Z"
   },
   {
    "duration": 19,
    "start_time": "2023-05-21T14:19:04.382Z"
   },
   {
    "duration": 18,
    "start_time": "2023-05-21T14:19:04.403Z"
   },
   {
    "duration": 12,
    "start_time": "2023-05-21T14:19:04.422Z"
   },
   {
    "duration": 10,
    "start_time": "2023-05-21T14:19:04.436Z"
   },
   {
    "duration": 145,
    "start_time": "2023-05-21T14:19:04.448Z"
   },
   {
    "duration": 10,
    "start_time": "2023-05-21T14:19:04.594Z"
   },
   {
    "duration": 145,
    "start_time": "2023-05-21T14:19:04.605Z"
   },
   {
    "duration": 151,
    "start_time": "2023-05-21T14:19:04.752Z"
   },
   {
    "duration": 148,
    "start_time": "2023-05-21T14:19:04.905Z"
   },
   {
    "duration": 25,
    "start_time": "2023-05-21T14:19:05.055Z"
   },
   {
    "duration": 30,
    "start_time": "2023-05-21T14:19:05.083Z"
   },
   {
    "duration": 14,
    "start_time": "2023-05-21T14:19:05.115Z"
   },
   {
    "duration": 117,
    "start_time": "2023-05-21T14:19:05.131Z"
   },
   {
    "duration": 0,
    "start_time": "2023-05-21T14:19:05.251Z"
   },
   {
    "duration": 0,
    "start_time": "2023-05-21T14:19:05.253Z"
   },
   {
    "duration": 0,
    "start_time": "2023-05-21T14:19:05.258Z"
   },
   {
    "duration": 0,
    "start_time": "2023-05-21T14:19:05.259Z"
   },
   {
    "duration": 0,
    "start_time": "2023-05-21T14:19:05.260Z"
   },
   {
    "duration": 0,
    "start_time": "2023-05-21T14:19:05.261Z"
   },
   {
    "duration": 0,
    "start_time": "2023-05-21T14:19:05.264Z"
   },
   {
    "duration": 0,
    "start_time": "2023-05-21T14:19:05.265Z"
   },
   {
    "duration": 0,
    "start_time": "2023-05-21T14:19:05.266Z"
   },
   {
    "duration": 0,
    "start_time": "2023-05-21T14:19:05.267Z"
   },
   {
    "duration": 0,
    "start_time": "2023-05-21T14:19:05.268Z"
   },
   {
    "duration": 0,
    "start_time": "2023-05-21T14:19:05.269Z"
   },
   {
    "duration": 0,
    "start_time": "2023-05-21T14:19:05.271Z"
   },
   {
    "duration": 0,
    "start_time": "2023-05-21T14:19:05.273Z"
   },
   {
    "duration": 0,
    "start_time": "2023-05-21T14:19:05.274Z"
   },
   {
    "duration": 0,
    "start_time": "2023-05-21T14:19:05.278Z"
   },
   {
    "duration": 0,
    "start_time": "2023-05-21T14:19:05.279Z"
   },
   {
    "duration": 1059,
    "start_time": "2023-05-21T14:20:20.290Z"
   },
   {
    "duration": 134,
    "start_time": "2023-05-21T14:20:21.351Z"
   },
   {
    "duration": 12,
    "start_time": "2023-05-21T14:20:21.487Z"
   },
   {
    "duration": 8,
    "start_time": "2023-05-21T14:20:21.500Z"
   },
   {
    "duration": 14,
    "start_time": "2023-05-21T14:20:21.510Z"
   },
   {
    "duration": 24,
    "start_time": "2023-05-21T14:20:21.526Z"
   },
   {
    "duration": 23,
    "start_time": "2023-05-21T14:20:21.551Z"
   },
   {
    "duration": 12,
    "start_time": "2023-05-21T14:20:21.576Z"
   },
   {
    "duration": 16,
    "start_time": "2023-05-21T14:20:21.590Z"
   },
   {
    "duration": 29,
    "start_time": "2023-05-21T14:20:21.608Z"
   },
   {
    "duration": 13,
    "start_time": "2023-05-21T14:20:21.639Z"
   },
   {
    "duration": 12,
    "start_time": "2023-05-21T14:20:21.655Z"
   },
   {
    "duration": 14,
    "start_time": "2023-05-21T14:20:21.669Z"
   },
   {
    "duration": 10,
    "start_time": "2023-05-21T14:20:21.686Z"
   },
   {
    "duration": 6,
    "start_time": "2023-05-21T14:20:21.698Z"
   },
   {
    "duration": 10,
    "start_time": "2023-05-21T14:20:21.706Z"
   },
   {
    "duration": 16,
    "start_time": "2023-05-21T14:20:21.717Z"
   },
   {
    "duration": 155,
    "start_time": "2023-05-21T14:20:21.735Z"
   },
   {
    "duration": 8,
    "start_time": "2023-05-21T14:20:21.891Z"
   },
   {
    "duration": 150,
    "start_time": "2023-05-21T14:20:21.901Z"
   },
   {
    "duration": 149,
    "start_time": "2023-05-21T14:20:22.052Z"
   },
   {
    "duration": 164,
    "start_time": "2023-05-21T14:20:22.204Z"
   },
   {
    "duration": 16,
    "start_time": "2023-05-21T14:20:22.373Z"
   },
   {
    "duration": 22,
    "start_time": "2023-05-21T14:20:22.391Z"
   },
   {
    "duration": 23,
    "start_time": "2023-05-21T14:20:22.415Z"
   },
   {
    "duration": 24,
    "start_time": "2023-05-21T14:20:22.440Z"
   },
   {
    "duration": 24,
    "start_time": "2023-05-21T14:20:22.466Z"
   },
   {
    "duration": 619,
    "start_time": "2023-05-21T14:20:22.493Z"
   },
   {
    "duration": 267,
    "start_time": "2023-05-21T14:20:23.114Z"
   },
   {
    "duration": 342,
    "start_time": "2023-05-21T14:20:23.384Z"
   },
   {
    "duration": 17,
    "start_time": "2023-05-21T14:20:23.729Z"
   },
   {
    "duration": 306,
    "start_time": "2023-05-21T14:20:23.761Z"
   },
   {
    "duration": 344,
    "start_time": "2023-05-21T14:20:24.069Z"
   },
   {
    "duration": 11,
    "start_time": "2023-05-21T14:20:24.415Z"
   },
   {
    "duration": 288,
    "start_time": "2023-05-21T14:20:24.428Z"
   },
   {
    "duration": 4,
    "start_time": "2023-05-21T14:20:24.718Z"
   },
   {
    "duration": 208,
    "start_time": "2023-05-21T14:20:24.724Z"
   },
   {
    "duration": 4,
    "start_time": "2023-05-21T14:20:24.934Z"
   },
   {
    "duration": 426,
    "start_time": "2023-05-21T14:20:24.958Z"
   },
   {
    "duration": 14,
    "start_time": "2023-05-21T14:20:25.385Z"
   },
   {
    "duration": 76,
    "start_time": "2023-05-21T14:20:25.402Z"
   },
   {
    "duration": 37,
    "start_time": "2023-05-21T14:20:25.480Z"
   },
   {
    "duration": 5,
    "start_time": "2023-05-28T17:03:42.179Z"
   },
   {
    "duration": 926,
    "start_time": "2023-05-28T17:03:48.128Z"
   },
   {
    "duration": 216,
    "start_time": "2023-05-28T17:03:49.055Z"
   },
   {
    "duration": 11,
    "start_time": "2023-05-28T17:03:49.272Z"
   },
   {
    "duration": 6,
    "start_time": "2023-05-28T17:03:49.285Z"
   },
   {
    "duration": 14,
    "start_time": "2023-05-28T17:03:49.292Z"
   },
   {
    "duration": 24,
    "start_time": "2023-05-28T17:03:49.307Z"
   },
   {
    "duration": 11,
    "start_time": "2023-05-28T17:03:49.332Z"
   },
   {
    "duration": 10,
    "start_time": "2023-05-28T17:03:49.344Z"
   },
   {
    "duration": 6,
    "start_time": "2023-05-28T17:03:49.355Z"
   },
   {
    "duration": 9,
    "start_time": "2023-05-28T17:03:49.363Z"
   },
   {
    "duration": 12,
    "start_time": "2023-05-28T17:03:49.373Z"
   },
   {
    "duration": 9,
    "start_time": "2023-05-28T17:03:49.387Z"
   },
   {
    "duration": 6,
    "start_time": "2023-05-28T17:03:49.398Z"
   },
   {
    "duration": 5,
    "start_time": "2023-05-28T17:03:49.405Z"
   },
   {
    "duration": 6,
    "start_time": "2023-05-28T17:03:49.412Z"
   },
   {
    "duration": 9,
    "start_time": "2023-05-28T17:03:49.419Z"
   },
   {
    "duration": 8,
    "start_time": "2023-05-28T17:03:49.430Z"
   },
   {
    "duration": 132,
    "start_time": "2023-05-28T17:03:49.440Z"
   },
   {
    "duration": 13,
    "start_time": "2023-05-28T17:03:49.574Z"
   },
   {
    "duration": 110,
    "start_time": "2023-05-28T17:03:49.588Z"
   },
   {
    "duration": 113,
    "start_time": "2023-05-28T17:03:49.700Z"
   },
   {
    "duration": 117,
    "start_time": "2023-05-28T17:03:49.815Z"
   },
   {
    "duration": 10,
    "start_time": "2023-05-28T17:03:49.933Z"
   },
   {
    "duration": 31,
    "start_time": "2023-05-28T17:03:49.944Z"
   },
   {
    "duration": 11,
    "start_time": "2023-05-28T17:03:49.976Z"
   },
   {
    "duration": 11,
    "start_time": "2023-05-28T17:03:49.988Z"
   },
   {
    "duration": 19,
    "start_time": "2023-05-28T17:03:50.000Z"
   },
   {
    "duration": 494,
    "start_time": "2023-05-28T17:03:50.022Z"
   },
   {
    "duration": 195,
    "start_time": "2023-05-28T17:03:50.518Z"
   },
   {
    "duration": 298,
    "start_time": "2023-05-28T17:03:50.715Z"
   },
   {
    "duration": 10,
    "start_time": "2023-05-28T17:03:51.014Z"
   },
   {
    "duration": 261,
    "start_time": "2023-05-28T17:03:51.026Z"
   },
   {
    "duration": 337,
    "start_time": "2023-05-28T17:03:51.289Z"
   },
   {
    "duration": 8,
    "start_time": "2023-05-28T17:03:51.627Z"
   },
   {
    "duration": 189,
    "start_time": "2023-05-28T17:03:51.636Z"
   },
   {
    "duration": 4,
    "start_time": "2023-05-28T17:03:51.826Z"
   },
   {
    "duration": 181,
    "start_time": "2023-05-28T17:03:51.832Z"
   },
   {
    "duration": 3,
    "start_time": "2023-05-28T17:03:52.017Z"
   },
   {
    "duration": 362,
    "start_time": "2023-05-28T17:03:52.022Z"
   },
   {
    "duration": 12,
    "start_time": "2023-05-28T17:03:52.386Z"
   },
   {
    "duration": 46,
    "start_time": "2023-05-28T17:03:52.400Z"
   },
   {
    "duration": 4,
    "start_time": "2023-05-28T17:03:52.447Z"
   },
   {
    "duration": 18,
    "start_time": "2023-05-28T17:03:52.452Z"
   },
   {
    "duration": 5,
    "start_time": "2023-05-28T17:04:12.816Z"
   }
  ],
  "kernelspec": {
   "display_name": "Python 3 (ipykernel)",
   "language": "python",
   "name": "python3"
  },
  "language_info": {
   "codemirror_mode": {
    "name": "ipython",
    "version": 3
   },
   "file_extension": ".py",
   "mimetype": "text/x-python",
   "name": "python",
   "nbconvert_exporter": "python",
   "pygments_lexer": "ipython3",
   "version": "3.10.9"
  },
  "toc": {
   "base_numbering": 1,
   "nav_menu": {},
   "number_sections": true,
   "sideBar": true,
   "skip_h1_title": true,
   "title_cell": "Содержание",
   "title_sidebar": "Contents",
   "toc_cell": true,
   "toc_position": {
    "height": "calc(100% - 180px)",
    "left": "10px",
    "top": "150px",
    "width": "371px"
   },
   "toc_section_display": true,
   "toc_window_display": true
  }
 },
 "nbformat": 4,
 "nbformat_minor": 2
}
